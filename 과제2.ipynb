{
 "cells": [
  {
   "cell_type": "markdown",
   "id": "4d2b45f8",
   "metadata": {},
   "source": [
    "1번\n",
    "===\n",
    "\n",
    "> 다음 6 개의 Expression에 대해 Evaluation 결과 값을 출력하고, 해당 결과가 나온 이유에 대해 설명하시오\n",
    "> 1. 1 and 2 and 3 and 4\n",
    "> 2. 1 or 2 or 3 or 4\n",
    "> 3. 1 and 2 or 3 and 4\n",
    "> 4. (1 and 2) or (3 and 4)\n",
    "> 5. 1 or 2 and 3 or 4\n",
    "> 6. (1 or 2) and (3 or 4)"
   ]
  },
  {
   "cell_type": "markdown",
   "id": "98dd6e6c",
   "metadata": {},
   "source": [
    "\n",
    "\n",
    " 파이썬에서 불리언 연산자를 사용할 때, 특별한 유의사항이 있다. \n",
    "\n",
    " *  불리언 연산자에서 앞에가 참이면 뒤에는 계산하지도 않는다는 기능이 있기 때문에 고려해야한다. \n",
    " \n",
    " *  0은 false 이고 0을 제외한 숫자는 True 이다. \n",
    " \n",
    " [주의] 논리 연산자 자체가 값을 반환하지는 않는다.\n",
    "대신, 논리 연산을 따라 최종적으로 평가(Evaluation)되어진 값이 반환된다.\n",
    "\n",
    "-------------"
   ]
  },
  {
   "cell_type": "code",
   "execution_count": 1,
   "id": "a0005252",
   "metadata": {},
   "outputs": [
    {
     "data": {
      "text/plain": [
       "4"
      ]
     },
     "execution_count": 1,
     "metadata": {},
     "output_type": "execute_result"
    }
   ],
   "source": [
    "1 and 2 and 3 and 4"
   ]
  },
  {
   "cell_type": "markdown",
   "id": "6dd0ca46",
   "metadata": {},
   "source": [
    "* 여기서 and and and 로 묶여져 있다. and는 하나라도 false이면 false를 반환하기 때문에, 뒤에까지 확인해 봐야하기 때문에 4까지 검사하고 4가 나온 것이다. "
   ]
  },
  {
   "cell_type": "code",
   "execution_count": 2,
   "id": "650790dd",
   "metadata": {},
   "outputs": [
    {
     "data": {
      "text/plain": [
       "1"
      ]
     },
     "execution_count": 2,
     "metadata": {},
     "output_type": "execute_result"
    }
   ],
   "source": [
    "1 or 2 or 3 or 4"
   ]
  },
  {
   "cell_type": "markdown",
   "id": "445fa64c",
   "metadata": {},
   "source": [
    "* 위와 다르게 Or 연산자는 앞에만 참이면 True 이기 때문에 맨 앞이 1이므로 True 뒤도 안 돌아보고 반환해~ "
   ]
  },
  {
   "cell_type": "code",
   "execution_count": 3,
   "id": "f1881c32",
   "metadata": {},
   "outputs": [
    {
     "data": {
      "text/plain": [
       "2"
      ]
     },
     "execution_count": 3,
     "metadata": {},
     "output_type": "execute_result"
    }
   ],
   "source": [
    "1 and 2 or 3 and 4"
   ]
  },
  {
   "cell_type": "markdown",
   "id": "4327f952",
   "metadata": {},
   "source": [
    "* 여기서 앞 and에 계산 결과는 True 입니다. or 연산은 앞이 True이면 뒤에는 보지도 않고 바로 반환하기 때문에 2가 반환됩니다."
   ]
  },
  {
   "cell_type": "code",
   "execution_count": 8,
   "id": "45e11e1c",
   "metadata": {},
   "outputs": [
    {
     "data": {
      "text/plain": [
       "2"
      ]
     },
     "execution_count": 8,
     "metadata": {},
     "output_type": "execute_result"
    }
   ],
   "source": [
    "(1 and 2) or (3 and 4)"
   ]
  },
  {
   "cell_type": "markdown",
   "id": "fcb76573",
   "metadata": {},
   "source": [
    "* 여기서는 위와 다르게 (3 and 4) 까지 계산을 하고 2 or 4 중에서 2가 True 이므로 4는 평가하지 않고 2를 반환합니다. "
   ]
  },
  {
   "cell_type": "code",
   "execution_count": 5,
   "id": "cda1211b",
   "metadata": {},
   "outputs": [
    {
     "data": {
      "text/plain": [
       "1"
      ]
     },
     "execution_count": 5,
     "metadata": {},
     "output_type": "execute_result"
    }
   ],
   "source": [
    "1 or 2 and 3 or 4"
   ]
  },
  {
   "cell_type": "markdown",
   "id": "d8d6bc4f",
   "metadata": {},
   "source": [
    "* 여기서도 or 연산자는 앞이 True 이면 뒤도 안보고 앞 결과를 반환하기 때문에 1을 반환했다. "
   ]
  },
  {
   "cell_type": "code",
   "execution_count": 6,
   "id": "e03b6d2a",
   "metadata": {},
   "outputs": [
    {
     "data": {
      "text/plain": [
       "3"
      ]
     },
     "execution_count": 6,
     "metadata": {},
     "output_type": "execute_result"
    }
   ],
   "source": [
    "(1 or 2) and (3 or 4)"
   ]
  },
  {
   "cell_type": "markdown",
   "id": "f8c8eb7d",
   "metadata": {},
   "source": [
    "* 여기서는 괄호 때문에 ( 1 or 2 ) 계산 해서 1 and 3 이 나오고 and 이므로 뒤에까지 확인해서 3이 나왔다.  "
   ]
  },
  {
   "cell_type": "markdown",
   "id": "19292c5c",
   "metadata": {},
   "source": [
    "2번\n",
    "====\n",
    ">경로에 해당하는 문자열 1개를 입력 받아 그 안에 디렉토리 경로명과 파일명을 분리하여 리스트로 반환하는 함수 div_path(s)를 작성하시오.\n",
    ">인자로 전달하는 문자열은 경로만 들어간다고 가정한다.\n",
    ">각 디렉토리와 파일을 구분하는 문자는 '/'로 가정한다.\n",
    ">반환하는 리스트의 첫번째 원소는 디렉토리이고 두번째 원소는 파일명이다.\n",
    ">다음과 같은 실행 및 출력 결과가 도출되어야 한다.\n",
    ">div_path('/usr/local/bin/python')\n",
    ">['/usr/local/bin', 'python']\n",
    ">div_path('/home/chulsoo/test.txt')\n",
    ">['/home/chulsoo', 'test.txt']\n",
    ">[참고] 리스트(l) 내에 새로운 정수값 (예를 들어 10)을 넣는 방법은 l.append(10) 이다."
   ]
  },
  {
   "cell_type": "code",
   "execution_count": 1,
   "id": "85f545be",
   "metadata": {},
   "outputs": [
    {
     "name": "stdout",
     "output_type": "stream",
     "text": [
      "<class 'str'>\n"
     ]
    }
   ],
   "source": [
    "\n",
    "def div_path(s):\n",
    "    \n",
    "    all = s.split('/')\n",
    "    filename = all[-1]\n",
    "    \n",
    "    directory = s[0:len(s) - len(filename)-1]  #-1 은 마지막 / 를 빼주기 위해 \n",
    "    \n",
    "    return filename,directory\n",
    "\n",
    "s= '/usr/local/bin/python'\n",
    "div_path(s)    "
   ]
  },
  {
   "cell_type": "markdown",
   "id": "fed2879a",
   "metadata": {},
   "source": [
    "나는 먼저, 조건부터 파악했다.\n",
    "* 디렉토리 안에 파일이름은 항상 마지막에 있다는 것을 알았고,\n",
    "* 구분자로 구분했을 때 마지막 항목이 항상 파일명 >인 것을 알았다\n",
    "------ \n",
    "따라서 Split('/')로 분해하고 마지막 [-1]만 추출했다. \n",
    "그리고 디렉토리에는 / 기호가 있어야 하기 때문에, \n",
    "\n",
    "원본 길이에서 filename길이만큼 빼서 슬라이싱 해서 추출했다. "
   ]
  },
  {
   "cell_type": "markdown",
   "id": "23c92807",
   "metadata": {},
   "source": [
    "3번 \n",
    "====\n",
    "* 두 개의 리스트를 인자로 받아서 그 두 개의 리스트에 대한 '합집합'을 반환하는 함수 list_union(lista, listb)를 작성하시오.\n",
    "* 집합 자료형 set은 사용하지 않는다.\n",
    "* 인자로 전달하는 리스트 2 개에는 정수값만 들어간다고 가정하자.\n",
    "* 함수 내에서 새로운 리스트를 만들어 그 리스트 내에 인자로 받은 두 리스트의 모든 원소를 넣어 반환한다.\n",
    "* 반환하는 리스트에는 절대로 중복된 원소가 들어 있으면 안된다 (집합의 조건).\n",
    "* 반환하는 리스트는 정렬이 되어 있어야 한다.\n",
    "* 다음과 같은 실행 및 출력 결과가 도출되어야 한다.\n",
    "* list_union([1, 2, 3], [1, 2, 4])\n",
    "* [1, 2, 3, 4]\n",
    "* list_union([-10, -5, 0, -1], [100, 9, 0, 9])\n",
    "* [-10, -5, -1, 0, 9, 100]\n",
    "* list_union([0, 1, 2], [0, 1, 2])\n",
    "\n",
    "\n",
    "* [0, 1, 2]\n",
    "\n",
    "\n",
    "* [참고] 리스트(l) 내에 새로운 정수값 (예를 들어 10)을 넣는 방법은 l.append(10) 이다.\n",
    "\n",
    "\n",
    "* [참고] 임의의 정수값 (x)이 리스트 (l) 내에 존재하는지 판단하는 방법은 x in l 이다."
   ]
  },
  {
   "cell_type": "code",
   "execution_count": 3,
   "id": "2bad2c38",
   "metadata": {},
   "outputs": [
    {
     "name": "stdout",
     "output_type": "stream",
     "text": [
      "[1, 2, 3, 4]\n"
     ]
    }
   ],
   "source": [
    "def list_union(lista,listb):\n",
    "    all_list = lista + listb \n",
    "    not_overlap_list = []\n",
    "    \n",
    "    for v in all_list:                #중복 제거 \n",
    "        if v not in not_overlap_list:\n",
    "            not_overlap_list.append(v)\n",
    "\n",
    "    \n",
    "    not_overlap_list.sort()            #정렬 \n",
    "    print(not_overlap_list)\n",
    "    \n",
    "list_union([3,2,1],[2,3,4])"
   ]
  },
  {
   "cell_type": "markdown",
   "id": "4d917a3a",
   "metadata": {},
   "source": [
    "해결 방법\n",
    "---\n",
    "1. 모든 리스트를 합치기 위해서 + 연산자를 사용해 all_list에 넣었다.\n",
    "\n",
    "2. 새로 담을 리스트(not_overlap_list)를 만들었다.\n",
    "\n",
    "3. 중복을 제거하기 위해서 반복문을 사용했고, not in을 사용해서 같은 값이 들어있지 않을 때만 값을 집어 넣는다.\n",
    "\n",
    "4. 마지막으로 중복 제거 된 리스트를 sort() 함수를 통해 정렬 과정을 거친다. "
   ]
  },
  {
   "cell_type": "markdown",
   "id": "fe2cf1b5",
   "metadata": {},
   "source": [
    "4번\n",
    "===\n",
    "* 두 개의 리스트를 인자로 받아서 그 두 개의 리스트에 대한 '교집합'을 반환하는 함수 list_intersection(lista, listb)와 '차집합'을 반환하는 함수 list_difference(lista, listb)를 작성하시오.\n",
    "\n",
    "모든 가정과 조건은 3번 문제와 동일하다."
   ]
  },
  {
   "cell_type": "code",
   "execution_count": 4,
   "id": "c7dbddfc",
   "metadata": {},
   "outputs": [
    {
     "name": "stdout",
     "output_type": "stream",
     "text": [
      "[1, 3]\n"
     ]
    }
   ],
   "source": [
    "def list_intersection(listc,listd):\n",
    "    \n",
    "    newlist = []\n",
    "    not_overlap_list = []\n",
    "    \n",
    "    for v in listc:          #교집합 함수       \n",
    "        if v in listd:\n",
    "            newlist.append(v)\n",
    "            \n",
    "    for j in newlist:                   #중복 제거 \n",
    "        if j not in not_overlap_list:\n",
    "            not_overlap_list.append(j)\n",
    "            \n",
    "    not_overlap_list.sort()                #정렬 \n",
    "    print(not_overlap_list) \n",
    "    \n",
    "list_intersection([3,2,1],[3,1,6])    "
   ]
  },
  {
   "cell_type": "code",
   "execution_count": 30,
   "id": "abd4cc12",
   "metadata": {},
   "outputs": [
    {
     "name": "stdout",
     "output_type": "stream",
     "text": [
      "[5, 6]\n"
     ]
    }
   ],
   "source": [
    "def list_difference(liste,listf):   #liste - listf \n",
    "    \n",
    "    \n",
    "    diflist = [] \n",
    "    for v in liste:          #차집합 함수       \n",
    "        if v not in listf:\n",
    "            diflist.append(v)\n",
    "            \n",
    "  \n",
    "    \n",
    "    print(diflist)\n",
    "list_difference([4,5,6],[1,4,2])"
   ]
  },
  {
   "cell_type": "markdown",
   "id": "d18e6a66",
   "metadata": {},
   "source": [
    " 해결방법\n",
    " ---\n",
    " * 교집합 같은 경우에는 두 리스트에 대해여 for문과 if문을 통해 in 안에 공통으로 있는 원소만 append로 넣게 했다. \n",
    "     그 다음에는 중복원소를 제거했다. \n",
    " \n",
    " * 차집합은 더욱 쉽다. 앞 리스트 원소에서 있지 않다면 뒤 리스트 원소에 없다면 넣는다.  "
   ]
  },
  {
   "cell_type": "markdown",
   "id": "66a03043",
   "metadata": {},
   "source": [
    "5번\n",
    "===\n",
    "* 두 개의 양의 정수를 인자로 받아서 해당 범위안에 있는 소수(prime number)의 리스트를 출력하는 함수 print_primenumber(a, b)를 작성하시오.\n",
    "* 이미 구현된 모듈이나 라이브러리는 사용하지 않는다.\n",
    "* 함수의 반환(return)은 없으며 함수 내의 끝에서 .format()을 사용하여 다음과 같이 출력한다.\n",
    "* print_primenumber(2, 10)\n",
    "* 2 이상 10 이하 정수 중 소수 리스트: [2, 3, 5, 7]"
   ]
  },
  {
   "cell_type": "code",
   "execution_count": 1,
   "id": "6fec9791",
   "metadata": {},
   "outputs": [
    {
     "name": "stdout",
     "output_type": "stream",
     "text": [
      "2\n",
      "3\n",
      "5\n",
      "7\n"
     ]
    }
   ],
   "source": [
    "def print_primenumber(a,b):  \n",
    "    for i in range (a,b+1):\n",
    "        count = 0 \n",
    "        for j in range(2,i+1):\n",
    "\n",
    "            if(i % j == 0):\n",
    "                count= count +1 \n",
    "        \n",
    "        if (count == 1):\n",
    "            print(i)\n",
    "             \n",
    "                    \n",
    "\n",
    "print_primenumber(2,10)"
   ]
  },
  {
   "cell_type": "markdown",
   "id": "b7a35131",
   "metadata": {},
   "source": [
    "해결 방법\n",
    "---\n",
    "\n",
    "* 여기서 내가 해결한 알고리즘은 2부터 나누었을 때, 자기 자신으로만 나누어떨어진다면, 그 것은 소수이다 .\n",
    "\n",
    "* 따라서, \n",
    "\n",
    "1. 해당 수르 2이상 자기 자신까지 나누어 본다! \n",
    "\n",
    "2. 나누어 떨어질 때, count를 세고 \n",
    "        \n",
    "3. count == 1 이라면 그것은 소수 !! ( 한번만 나누어졌다는 뜻) \n",
    "        \n",
    "        "
   ]
  },
  {
   "cell_type": "markdown",
   "id": "6b90bf84",
   "metadata": {},
   "source": [
    "[Incremental Project 문제]\n",
    "===\n",
    "> 웹 URL로 지정된 웹페이지를 문자열로 가져와 1) 모든 HTML 태그를 제외한 순수 텍스트 문자열만을 걸러내고, 2) 그 순수 텍스트 문자열 안에 존재하는 단어가 총 몇개인지 출력하는 프로그램을 작성하시오.\n",
    "\n",
    "* 단어를 나누는 기준은 오로지 공백문자 (whitespace)이다.\n",
    "* 즉, 위 순수 텍스트 문자열인 \"로그인 유지\"에서 분리한 단어는 \"로그인\"과 \"유지\"이다.\n",
    "* 중복을 고려하지 않고 무조건 모든 단어의 개수를 세어서 출력한다.\n",
    "* 본 숙제를 위하여 HTML 파싱과 관련된 모듈 (예. BeautifulSoup) 사용 금지\n",
    "* 다음은 URL로 지정된 웹페이지를 특정 문자열로 가져오는 코드이다."
   ]
  },
  {
   "cell_type": "code",
   "execution_count": 8,
   "id": "7af28e32",
   "metadata": {
    "scrolled": false
   },
   "outputs": [
    {
     "name": "stdout",
     "output_type": "stream",
     "text": [
      "한국기술교육대학교\n",
      "재학생\n",
      "새창열림생활관\n",
      "새창열림오늘의\n",
      "식단\n",
      "인터넷증명발급\n",
      "입학정보\n",
      "코리아텍의\n",
      "입학정보를\n",
      "제공합니다\n",
      "취업정보\n",
      "최신\n",
      "취업관련\n",
      "정보를\n",
      "제공합니다\n",
      "예비대학생\n",
      "학생이\n",
      "행복한\n",
      "대학\n",
      "한국기술교육대학교\n",
      "새창열림입학안내\n",
      "언론기사\n",
      "생활관\n",
      "전화번호찾기\n",
      "입학정보\n",
      "코리아텍의\n",
      "입학정보를\n",
      "제공합니다\n",
      "취업정보\n",
      "최신\n",
      "취업관련\n",
      "정보를\n",
      "제공합니다\n",
      "교직원\n",
      "새창열림온라인교육지원\n",
      "새창열림원격지원\n",
      "새창열림교육장비검색일반인\n",
      "학부소개\n",
      "새창열림캠퍼스투어\n",
      "전화번호찾기자세히\n",
      "보기자세히\n",
      "보기\n",
      "본문바로가기주메뉴바로가기\n",
      "오늘\n",
      "하루\n",
      "보지\n",
      "않기\n",
      "교직원일반인통학·셔틀버스\n",
      "대표홈\n",
      "회원가입\n",
      "마이페이지\n",
      "링크\n",
      "링크\n",
      "언어영\n",
      "언어일\n",
      "검색\n",
      "한국기술교육대학교\n",
      "기술리더\n",
      "청소산학협력단\n",
      "단수예정상담·진로개발센터\n",
      "온·오프라인\n",
      "상담심리검사\n",
      "서비스\n",
      "안내\n",
      "대외협력팀\n",
      "학기\n",
      "글로벌라운지\n",
      "프로그램\n",
      "안내\n",
      "포토갤러리\n",
      "팝업존\n",
      "중앙일보\n",
      "대학평가\n",
      "교육중심대학년연속\n",
      "위\n",
      "출처\n",
      "중앙일보\n",
      "년\n",
      "평가\n",
      "천원\n",
      "한국기술교육대학교\n",
      "나래맨\n",
      "한국기술교육대학교\n",
      "홍보대사\n",
      "체험\n",
      "리뷰\n",
      "나래맨\n",
      "홍보대사\n",
      "리뷰\n",
      "취업률\n",
      "전국\n",
      "위\n",
      "한국기술교육대학교를\n",
      "조사해\n",
      "봤습니다\n",
      "그\n",
      "학교가\n",
      "알고싶다\n",
      "한국기술교육대학교\n",
      "새창열림\n",
      "새창열림\n",
      "새창열림\n",
      "새창열림\n",
      "새창열림\n",
      "새창열림\n",
      "새창열림\n",
      "새창열림\n",
      "새창열림\n",
      "새창열림\n",
      "새창열림\n",
      "새창열림\n",
      "새창열림\n",
      "새창열림\n",
      "새창열림\n",
      "새창열림\n",
      "새창열림\n",
      "새창열림\n",
      "새창열림\n",
      "새창열림\n",
      "새창열림\n",
      "새창열림\n",
      "새창열림\n",
      "새창열림\n",
      "새창열림\n",
      "새창열림\n",
      "새창열림\n",
      "새창열림\n",
      "새창열림\n",
      "새창열림\n",
      "새창열림\n",
      "새창열림\n",
      "새창열림\n",
      "새창열림\n",
      "새창열림\n",
      "새창열림\n",
      "새창열림\n",
      "새창열림\n",
      "새창열림\n",
      "새창열림\n",
      "새창열림\n",
      "새창열림\n",
      "새창열림\n",
      "새창열림\n",
      "새창열림\n",
      "새창열림\n",
      "새창열림\n",
      "새창열림\n",
      "새창열림\n",
      "새창열림\n",
      "새창열림\n",
      "새창열림\n",
      "새창열림\n",
      "새창열림\n",
      "새창열림\n",
      "새창열림\n",
      "새창열림\n",
      "새창열림\n",
      "새창열림\n",
      "새창열림\n",
      "새창열림\n",
      "새창열림\n",
      "새창열림\n",
      "새창열림\n",
      "새창열림\n",
      "새창열림\n",
      "새창열림\n",
      "새창열림\n",
      "새창열림\n",
      "새창열림\n",
      "새창열림\n",
      "명칭\n",
      "이용약관\n",
      "오시는길\n",
      "더보기우측내용\n",
      "더보기\n",
      "ⓒ\n",
      "모든 단어의 갯수는 :  180 개 입니다.\n"
     ]
    }
   ],
   "source": [
    "import requests\n",
    "import re\n",
    "\n",
    "\n",
    "req = requests.get('https://www.koreatech.ac.kr/kor/Main.do')\n",
    "\n",
    "source = req.text\n",
    "\n",
    "\n",
    "\n",
    "source =  re.sub(r'(?s)\\<.*?\\>[^\\w\\s]*', '', source).replace('\\n', '')    # < > 사이 문자 삭제 \n",
    "\n",
    "source =  re.sub(r'(?s)\\>.*?\\>[^\\w\\s]*', '', source).replace('\\n', '')     # > > 사이 문자 삭제 \n",
    "\n",
    "source =  re.sub(r'(?s)\\{.*?\\}[^\\w\\s]*', '', source).replace('\\n', '')     # {  }사이 문자 제거 \n",
    "\n",
    "source =  re.sub('[-=+,#/\\?:^$.@*\\\"※~&%ㆍ!』;}\\\\‘|\\(\\)\\[\\]\\<\\>`\\'…》]', '', source)   #특수문자 제거 \n",
    "\n",
    "source = re.sub('[a-zA-z-0-9]', '', source)\n",
    "\n",
    "\n",
    "\n",
    "\n",
    "\n",
    "source_list = source.split()    # 공백으로 문자들을 나누고 \n",
    "\n",
    "for i in source_list:\n",
    "    if (len(i)<20):       #띄어쓰기가 안된 엄청 긴 단어들은 표현 x \n",
    "        print(i)          #주석처리 해제 하면 결과 출력 됩니다!  \n",
    "        \n",
    "        \n",
    "print(\"모든 단어의 갯수는 : \",len(source_list), \"개 입니다.\")   \n"
   ]
  },
  {
   "attachments": {
    "%EC%9D%B4%EB%A6%84.PNG": {
     "image/png": "[encoded data removed]"
    }
   },
   "cell_type": "markdown",
   "id": "d009691a",
   "metadata": {},
   "source": [
    "해결 방법\n",
    "----\n",
    "\n",
    "> 먼저, 과제에 들어가기 앞서서 많은 고난에 빠져서 10시간 동안 허우적 됐다. 일단 리스트로 문자들을 저장하고 \n",
    "\n",
    "> 특정 문자의 패턴을 어떻게 하면 삭제 할 수 있을지 고민했다. 처음에 생각한 방법은  list[ list.index('<') : list.index('>') ]\n",
    "\n",
    "> 이렇게 슬라이싱을 통해서 그 특정 문자를 계속 삭제하려고 했지만, 많은 오류와.. 만약 <가 없으면 index는 오류가 발생하는데\n",
    "\n",
    "> 그 것을 어떻게 처리할 것인지.. 문자열을 리스트로 변경하는 작업 , ... 등등등 여러가지 문제를 해결 할 수 없었기에 접었다.... \n",
    "\n",
    "\n",
    "----------\n",
    "\n",
    "그렇게 역경 끝에 찾은 방법은 3시간에 (구글링)끝에서  인터넷 검색을 통해서 re.sub를 통해서 특정 패턴사이 문자들을 삭제할 수 있음을 찾을 수 있었다.  \n",
    "\n",
    "\n",
    "![%EC%9D%B4%EB%A6%84.PNG](attachment:%EC%9D%B4%EB%A6%84.PNG)\n",
    "\n",
    "\n",
    "\n",
    "![2반](https://user-images.githubusercontent.com/91319157/136514588-eeedbc67-2cc2-45b8-884f-82b49188183a.PNG)\n",
    "\n",
    "\n",
    "1. 여기서, ㅣstart 대신 < , ㅣend 대신 >을 입력했다. 아직 깊게 배우지 않은 내용이지만, 변형해서 사용했다. \n",
    "\n",
    "\n",
    "\n",
    "2. 이렇게 과정을 거쳤더니, 네이버나 거대한 링크소스에서는 < >사이 뿐만 아니라 > > {} 등등 이상한 주소도 많이 나왔다.\n",
    "\n",
    "\n",
    "3. 그래서 >>사이, {} 사이 도 제거해주는 작업을 거쳤다. \n",
    "\n",
    "\n",
    "4. 그렇게 사이값을 지우고 단어는 특수문자나 숫자를 포함하지 않기 때문에 , 특수 문자 , 숫자 ,영어는 삭제해주었다.\n",
    "\n",
    "\n",
    "\n",
    "5. 이제 받은 문자들을 공백으로 문자를 분류한다.\n",
    "\n",
    "\n",
    "\n",
    "6. 띄어쓰기가 안된 긴 단어모음들은 삭제했다. 단어의 길이가 20보다 길면 표현 X \n",
    "\n",
    "\n",
    "\n",
    "7. 마지막으로 list에 항목의 개수를 반환하고 종료 했다. \n",
    "\n",
    "\n",
    "\n",
    "\n",
    "\n",
    "\n",
    "\n",
    "\n",
    "\n",
    "\n",
    "\n",
    "\n",
    "\n",
    "\n",
    "\n",
    "\n",
    "\n",
    "\n",
    "\n",
    "출처:https://www.python2.net/questions-441677.htm\n",
    "\n"
   ]
  },
  {
   "cell_type": "markdown",
   "id": "51f18319",
   "metadata": {},
   "source": [
    "소감\n",
    "===\n",
    "---------------\n",
    "이렇게 과제를 해보니, 파이썬에 대한 많은 시행착오를 겪었다. 확실히 여러가지 메소드를 잘 활용할 줄 알아야 문제를 해결하는 데 있어서 수월 하다고 느꼈다. 또한, 이렇게 과제를 직접해보니 실습공부를 할 수 있어서 이론 보다 머리에 잘 외워지는 것 같아서 좋았다. \n",
    "\n",
    "물론, 과제 점수를 잘 받아야 된다는 부담감은 크지만, 더욱 더 열심히 해서 파이썬을 마스터 할 수 있도록 노력하겠다 !! "
   ]
  }
 ],
 "metadata": {
  "kernelspec": {
   "display_name": "Python 3",
   "language": "python",
   "name": "python3"
  },
  "language_info": {
   "codemirror_mode": {
    "name": "ipython",
    "version": 3
   },
   "file_extension": ".py",
   "mimetype": "text/x-python",
   "name": "python",
   "nbconvert_exporter": "python",
   "pygments_lexer": "ipython3",
   "version": "3.8.8"
  }
 },
 "nbformat": 4,
 "nbformat_minor": 5
}
