{
 "cells": [
  {
   "cell_type": "markdown",
   "id": "59666966",
   "metadata": {},
   "source": [
    "< 과제 3>   2018136085 이세희\n",
    "==="
   ]
  },
  {
   "cell_type": "markdown",
   "id": "9ced1f05",
   "metadata": {},
   "source": [
    "1번\n",
    "=== \n",
    "L=[1, 2, 3, 4, 5]일 때 다음 각 문장을 수행한 후의 결과를 보고 납득할 만한 이유를 설명하시오."
   ]
  },
  {
   "cell_type": "markdown",
   "id": "6c1a4597",
   "metadata": {},
   "source": [
    "(1)\n",
    "---"
   ]
  },
  {
   "cell_type": "code",
   "execution_count": 2,
   "id": "f0f119df",
   "metadata": {},
   "outputs": [
    {
     "name": "stdout",
     "output_type": "stream",
     "text": [
      "[1, 100, 4, 5]\n"
     ]
    }
   ],
   "source": [
    "L=[1, 2, 3, 4, 5]\n",
    "L[1:3] = [100]\n",
    "print(L)"
   ]
  },
  {
   "cell_type": "markdown",
   "id": "a5c6b7b2",
   "metadata": {},
   "source": [
    "<설명>\n",
    "\n",
    "슬라이싱으로 L[1:3]은 2,3 항목 이다.  따라서 2,3대신 100 항목을 넣는다는 이야기이다. 그리고 여기선, 항목간 복사를 진행하므로 [2,3] => [100]으로 바뀌어 [int(100)]인 항목으로 들어가게 된 것이다. \n",
    "\n",
    "따라서, 1과 100, 4 , 5 만 남은 것이다. "
   ]
  },
  {
   "cell_type": "markdown",
   "id": "13daa0dc",
   "metadata": {},
   "source": [
    "(2)\n",
    "---"
   ]
  },
  {
   "cell_type": "code",
   "execution_count": 38,
   "id": "bcb1ad8c",
   "metadata": {},
   "outputs": [
    {
     "name": "stdout",
     "output_type": "stream",
     "text": [
      "[1, 100, 4, 5]\n"
     ]
    }
   ],
   "source": [
    "L=[1, 2, 3, 4, 5]\n",
    "L[1:3] = [(100)]\n",
    "print(L)"
   ]
  },
  {
   "cell_type": "markdown",
   "id": "a7931bfd",
   "metadata": {},
   "source": [
    "< 설명 >\n",
    "\n",
    "흔히 ()는 튜플로 많이 생각하는데, \n",
    "여기서는 ()에 의미는 그저 우선순위 수학 계산식의 ( ) 기능과 같다. 따라서 리스트에 100으로 저장 된다.\n",
    "그리고 슬라이싱은 항목간 복사를 진행한다. 따라서 [ ] 안에 있는 100 항목이 입력된다. \n"
   ]
  },
  {
   "cell_type": "markdown",
   "id": "df6a06bd",
   "metadata": {},
   "source": [
    "(3)\n",
    "=="
   ]
  },
  {
   "cell_type": "code",
   "execution_count": 2,
   "id": "f3d4b2f4",
   "metadata": {},
   "outputs": [
    {
     "ename": "TypeError",
     "evalue": "can only assign an iterable",
     "output_type": "error",
     "traceback": [
      "\u001b[1;31m---------------------------------------------------------------------------\u001b[0m",
      "\u001b[1;31mTypeError\u001b[0m                                 Traceback (most recent call last)",
      "\u001b[1;32m<ipython-input-2-b14b6d5e9def>\u001b[0m in \u001b[0;36m<module>\u001b[1;34m\u001b[0m\n\u001b[0;32m      1\u001b[0m \u001b[0mL\u001b[0m\u001b[1;33m=\u001b[0m\u001b[1;33m[\u001b[0m\u001b[1;36m1\u001b[0m\u001b[1;33m,\u001b[0m \u001b[1;36m2\u001b[0m\u001b[1;33m,\u001b[0m \u001b[1;36m3\u001b[0m\u001b[1;33m,\u001b[0m \u001b[1;36m4\u001b[0m\u001b[1;33m,\u001b[0m \u001b[1;36m5\u001b[0m\u001b[1;33m]\u001b[0m\u001b[1;33m\u001b[0m\u001b[1;33m\u001b[0m\u001b[0m\n\u001b[1;32m----> 2\u001b[1;33m \u001b[0mL\u001b[0m\u001b[1;33m[\u001b[0m\u001b[1;36m1\u001b[0m\u001b[1;33m:\u001b[0m\u001b[1;36m3\u001b[0m\u001b[1;33m]\u001b[0m \u001b[1;33m=\u001b[0m \u001b[1;36m100\u001b[0m\u001b[1;33m\u001b[0m\u001b[1;33m\u001b[0m\u001b[0m\n\u001b[0m\u001b[0;32m      3\u001b[0m \u001b[0mprint\u001b[0m\u001b[1;33m(\u001b[0m\u001b[0mL\u001b[0m\u001b[1;33m)\u001b[0m\u001b[1;33m\u001b[0m\u001b[1;33m\u001b[0m\u001b[0m\n",
      "\u001b[1;31mTypeError\u001b[0m: can only assign an iterable"
     ]
    }
   ],
   "source": [
    "L=[1, 2, 3, 4, 5]\n",
    "L[1:3] = 100\n",
    "print(L)"
   ]
  },
  {
   "cell_type": "markdown",
   "id": "6f48f2e8",
   "metadata": {},
   "source": [
    "<설명>\n",
    "리스트 슬라이싱은 iterable 한 값에 일부분을 출력하는 기능으로써, 따라서 iterable 하지 않으면 대입할 수 없다. \n",
    "\n",
    "따라서 대입하고 싶으면 겉 부분에 list []를 씌워서 iterable하게 만들어야 한다. \n",
    "\n",
    "100은 그저 int형 100 이므로 iterable 하지 않아서 오류가 발생했다.  "
   ]
  },
  {
   "cell_type": "markdown",
   "id": "f3a9b950",
   "metadata": {},
   "source": [
    "(4)\n",
    "--"
   ]
  },
  {
   "cell_type": "code",
   "execution_count": 36,
   "id": "0b95a93c",
   "metadata": {},
   "outputs": [
    {
     "ename": "TypeError",
     "evalue": "can only assign an iterable",
     "output_type": "error",
     "traceback": [
      "\u001b[1;31m---------------------------------------------------------------------------\u001b[0m",
      "\u001b[1;31mTypeError\u001b[0m                                 Traceback (most recent call last)",
      "\u001b[1;32m<ipython-input-36-9714c1575170>\u001b[0m in \u001b[0;36m<module>\u001b[1;34m\u001b[0m\n\u001b[0;32m      1\u001b[0m \u001b[0mL\u001b[0m\u001b[1;33m=\u001b[0m\u001b[1;33m[\u001b[0m\u001b[1;36m1\u001b[0m\u001b[1;33m,\u001b[0m \u001b[1;36m2\u001b[0m\u001b[1;33m,\u001b[0m \u001b[1;36m3\u001b[0m\u001b[1;33m,\u001b[0m \u001b[1;36m4\u001b[0m\u001b[1;33m,\u001b[0m \u001b[1;36m5\u001b[0m\u001b[1;33m]\u001b[0m\u001b[1;33m\u001b[0m\u001b[1;33m\u001b[0m\u001b[0m\n\u001b[1;32m----> 2\u001b[1;33m \u001b[0mL\u001b[0m\u001b[1;33m[\u001b[0m\u001b[1;36m1\u001b[0m\u001b[1;33m:\u001b[0m\u001b[1;36m3\u001b[0m\u001b[1;33m]\u001b[0m \u001b[1;33m=\u001b[0m \u001b[1;33m(\u001b[0m\u001b[1;36m100\u001b[0m\u001b[1;33m)\u001b[0m\u001b[1;33m\u001b[0m\u001b[1;33m\u001b[0m\u001b[0m\n\u001b[0m\u001b[0;32m      3\u001b[0m \u001b[0mprint\u001b[0m\u001b[1;33m(\u001b[0m\u001b[0mL\u001b[0m\u001b[1;33m)\u001b[0m\u001b[1;33m\u001b[0m\u001b[1;33m\u001b[0m\u001b[0m\n",
      "\u001b[1;31mTypeError\u001b[0m: can only assign an iterable"
     ]
    }
   ],
   "source": [
    "L=[1, 2, 3, 4, 5]\n",
    "L[1:3] = (100)\n",
    "print(L)"
   ]
  },
  {
   "cell_type": "markdown",
   "id": "7e54360c",
   "metadata": {},
   "source": [
    "<설명> \n",
    "이도 마찬가지로 여기서 (100)은 int 100과 같은 값으로 위와 동일하게 오류가 발생한다.  여기서의 괄호는 계산 우선 순위 괄호를 의미하므로 \n",
    "(100)은 100과 같다."
   ]
  },
  {
   "cell_type": "markdown",
   "id": "793e3518",
   "metadata": {},
   "source": [
    "(5)\n",
    "---"
   ]
  },
  {
   "cell_type": "code",
   "execution_count": 16,
   "id": "b7e46f07",
   "metadata": {},
   "outputs": [
    {
     "name": "stdout",
     "output_type": "stream",
     "text": [
      "[1, 100, 101, 102, 4, 5]\n"
     ]
    }
   ],
   "source": [
    "L=[1, 2, 3, 4, 5]\n",
    "L[1:3] = (100, 101, 102)\n",
    "print(L)"
   ]
  },
  {
   "cell_type": "markdown",
   "id": "1d508731",
   "metadata": {},
   "source": [
    "<설명>\n",
    "\n",
    "슬라이싱은 항목간 복사가 된다. 근데, 여기서 항목 하나씩 값을 복사하게되면, L[1] = 100 을 넣기 , L[2] = 101 넣기  L하나 더 넣고 밀기 해서 한개 씩 바라보게 되어서 int 값으로 대입했기 때문이라고 생각한다.\n",
    "\n",
    "그래서 만약 \n",
    "L[1] =  (100, 101, 102) 을 하면 튜플로 저장된다. "
   ]
  },
  {
   "cell_type": "markdown",
   "id": "fca12dd9",
   "metadata": {},
   "source": [
    "(6)\n",
    "---"
   ]
  },
  {
   "cell_type": "code",
   "execution_count": 17,
   "id": "1b59d7f4",
   "metadata": {},
   "outputs": [
    {
     "name": "stdout",
     "output_type": "stream",
     "text": [
      "[1, 100, 101, 102, 4, 5]\n"
     ]
    }
   ],
   "source": [
    "L=[1, 2, 3, 4, 5]\n",
    "L[1:3] = [100, 101, 102]\n",
    "print(L)"
   ]
  },
  {
   "cell_type": "markdown",
   "id": "b0ac03a0",
   "metadata": {},
   "source": [
    "<설명> \n",
    "\n",
    "여기서도 그냥 리스트로 넣기 때문에 항목간 복사를 실시한다. 따라서 [1,[100, 101 , 102],4, 5 ]  아닌 다음과 같은 결과 값이 나왔다. "
   ]
  },
  {
   "cell_type": "markdown",
   "id": "0cb897d7",
   "metadata": {},
   "source": [
    "(7)\n",
    "---"
   ]
  },
  {
   "cell_type": "code",
   "execution_count": 20,
   "id": "cc9e5765",
   "metadata": {},
   "outputs": [
    {
     "name": "stdout",
     "output_type": "stream",
     "text": [
      "[1, (100, 101, 102), 4, 5]\n"
     ]
    }
   ],
   "source": [
    "L=[1, 2, 3, 4, 5]\n",
    "L[1:3] = [(100, 101, 102)]\n",
    "print(L)"
   ]
  },
  {
   "cell_type": "markdown",
   "id": "048b8c05",
   "metadata": {},
   "source": [
    "<설명> \n",
    "\n",
    "여기서 대입 연산자 오른쪽은 [(100, 101, 102)] 이다 이는 A=   [(100, 101, 102)] 일 때, A[0] = (100, 101, 102)이다,\n",
    "\n",
    "슬라이싱은 항목간 복사이다 그래서 A[0]의 값을 한번에 대입하므로 튜플로 들어가게 된다. \n"
   ]
  },
  {
   "cell_type": "markdown",
   "id": "2b08f789",
   "metadata": {},
   "source": [
    "(8)\n",
    "---"
   ]
  },
  {
   "cell_type": "code",
   "execution_count": 21,
   "id": "a6e58dc7",
   "metadata": {},
   "outputs": [
    {
     "name": "stdout",
     "output_type": "stream",
     "text": [
      "[1, [100, 101, 102], 4, 5]\n"
     ]
    }
   ],
   "source": [
    "L=[1, 2, 3, 4, 5]\n",
    "L[1:3] = [[100, 101, 102]]\n",
    "print(L)"
   ]
  },
  {
   "cell_type": "markdown",
   "id": "5e2c0637",
   "metadata": {},
   "source": [
    "<설명>\n",
    "\n",
    "이 문제도 마찬가지다 [] 안에 인덱싱이 [0]으로 되므로 항목간 복사를 실시한다. 그래서 [0] = [100, 101, 102] 뭉텅이가 한번에 입력되는 것이다. "
   ]
  },
  {
   "cell_type": "markdown",
   "id": "49d3cf7f",
   "metadata": {},
   "source": [
    "2번\n",
    "===\n",
    "* 문자열 S = 'Hello World and Python'에 대해 다음 요구사항에 대한 Python 코드를 제시하시오.\n",
    "* 1) 단어의 순서가 역순으로 되어진 문자열 ('Python and World Hello')을 만들고\n",
    "* 2) 1)의 결과 문자열에 대해 메소드 split과 join을 이용하여 공백을 모두 없엔 문자열 'PythonandWorldHello'을 만드시오."
   ]
  },
  {
   "cell_type": "code",
   "execution_count": 88,
   "id": "a338376b",
   "metadata": {},
   "outputs": [
    {
     "name": "stdout",
     "output_type": "stream",
     "text": [
      "Python and World Hello\n",
      "PythonandWorldHello\n"
     ]
    }
   ],
   "source": [
    "S = 'Hello World and Python'  #원본 \n",
    "\n",
    "\n",
    "#1) \n",
    "\n",
    "S = S.split()    #거꾸로 넣기 위해 분해 작업 부터시작 ( 문자열 -> 리스트로 변경)\n",
    "S.reverse()      #문자의 요소 순서를 바꿈 거꾸로 \n",
    "\n",
    "S=' '.join(a for a in S)   #띄어쓰기 한 칸씩 널고 다시 문자열로 변경 \n",
    "\n",
    "print(S)\n",
    "\n",
    "\n",
    "\n",
    "\n",
    "\n",
    "#2)\n",
    "S = S.split() #다시 분해해서 띄어쓰기로 값을 나눈 후  \n",
    "S=\"\".join(S)  #여기서 나온 값들을 공백을 없앤 후 출력 \n",
    "print(S)"
   ]
  },
  {
   "cell_type": "markdown",
   "id": "d4412c17",
   "metadata": {},
   "source": [
    "<설명> \n",
    "\n",
    "(1)\n",
    "\n",
    "주석에서도 거의 설명을 했지만, 먼저 문제를 보면 완전히 글자 하나하나 거꾸로 출력하는 것이 아니다. \n",
    "따라서 인덱싱에 위치를 0 1 2 3 4를 reverse하여 4 3 2 1 0 할 수 있는 것을 이용하기 위해 단어를 하나의 요소를 만들기로 생각했다.\n",
    "그래서, Split을 통해서 단어 마다 요소로 나누었고, 이 값을 reverse 했고, 분리된 값들을 하나로 모으기 위해서 join을 사용해 완성했다.\n",
    "\n",
    "※여기서, 주의할 점은  Split()은 리스트로 바뀌고 join은 문자열로 바뀜을 주의해야 한다. \n",
    "\n",
    "\n",
    "(2)\n",
    "\n",
    "2번째도, 같은 방식으로 Split과 join을 사용하라고 했으니, 다시 분해해서 다시 join하는 작업을 걸쳐서 출력했다. "
   ]
  },
  {
   "cell_type": "markdown",
   "id": "279c079f",
   "metadata": {},
   "source": [
    "3번\n",
    "===\n",
    "> 다음 코드를 보고 물음에 답하시오.\n",
    "\n",
    "> a = [1, 2, 3]\n",
    "\n",
    "> b = a * 3\n",
    "\n",
    "> c = [a] * 3\n",
    "\n",
    "> print(b)\n",
    "\n",
    "> print(c)\n"
   ]
  },
  {
   "cell_type": "markdown",
   "id": "b1447631",
   "metadata": {},
   "source": [
    "(1)\n",
    "---\n",
    "* 위 코드를 수행한 이후 다음 코드를 수행한 후 b와 c의 내용을 확인하시오.\n",
    "* a[0]=0"
   ]
  },
  {
   "cell_type": "code",
   "execution_count": 22,
   "id": "1993413a",
   "metadata": {},
   "outputs": [
    {
     "name": "stdout",
     "output_type": "stream",
     "text": [
      "[1, 2, 3, 1, 2, 3, 1, 2, 3]\n",
      "[[0, 2, 3], [0, 2, 3], [0, 2, 3]]\n"
     ]
    }
   ],
   "source": [
    "a = [1, 2, 3]\n",
    "b = a * 3\n",
    "c = [a] * 3\n",
    "\n",
    "a[0] = 0\n",
    "\n",
    "print(b)\n",
    "print(c)"
   ]
  },
  {
   "cell_type": "markdown",
   "id": "0a662396",
   "metadata": {},
   "source": [
    "<설명>\n",
    "\n",
    "여기서 우리가 기대 하는 것은 분명 a값은 이전에 대입 했는데, a[0] = 0을 하고 나니, 값이 C에 값이 바뀌었다. 이는 왜 그런 것인가 ?\n",
    "\n",
    " _* 연산을 할 때 항목 하나씩 하게 되어서 b에는 int형으로 그저 값이 복사되어 입력된다.\n",
    "\n",
    "하지만, C에서는 []로 묶여있어서 래퍼런스를 복사하게 된다. 따라서 a의 래퍼런스를 c[0]에 하나 c[1],c[2]까지 넣어주게 된다. \n",
    "\n",
    "래퍼런스값이기 때문에 뒤에서 a[0] =0 값을 해주면 역시 c 또한 값이 바뀌게 된다."
   ]
  },
  {
   "cell_type": "markdown",
   "id": "6fc4ab0d",
   "metadata": {},
   "source": [
    "(2)\n",
    "----\n",
    "b와 c 객체의 차이는 무엇인가?"
   ]
  },
  {
   "cell_type": "code",
   "execution_count": 33,
   "id": "c0d1dc39",
   "metadata": {},
   "outputs": [
    {
     "name": "stdout",
     "output_type": "stream",
     "text": [
      "140729259534096\n",
      "140729259534128\n",
      "2017357854656\n",
      "2017357854656\n"
     ]
    }
   ],
   "source": [
    "\n",
    "a = [1, 2, 3]\n",
    "b = a * 3\n",
    "c = [a] * 3\n",
    "\n",
    "a[0] = 0\n",
    "\n",
    "\n",
    "print(id(a[0]))  #a와 b 주소 비교 \n",
    "print(id(b[0]))\n",
    " \n",
    "print(id(a))    #a와 c 주소 비교 \n",
    "print(id(c[0]))\n"
   ]
  },
  {
   "cell_type": "markdown",
   "id": "aa742d27",
   "metadata": {},
   "source": [
    "<설명> \n",
    "\n",
    "여기서, ID는 가르키는 주소를 반환하는 함수이다. 이를 이용해서 확인해보자 \n",
    "\n",
    "먼저, b와 a를 비교해보자, 같은 값인 1을 b[0]과 a[0]을 비교해보자, \n",
    "\n",
    ">140729259534096\n",
    "\n",
    ">140729259534128\n",
    "\n",
    "다른 값을 출력하는 것을 볼 수 있다. 따라서 입력 받을 때 래퍼런스가 아닌 값 복사를 통해서 전달했기 때문에 나중에 원본 값을 바꿔도\n",
    "아무런 변화가 없다. \n",
    "\n",
    "하지만, 여기서 a와 c[0]을 보면 같은 주소를 가르킨다. 따라서 c = [a]를 넣는 과정에서 값만 복사하는 것이 아니라 래퍼런스를 복사하게 된다.\n",
    "\n",
    ">2017357854656\n",
    "\n",
    ">2017357854656\n",
    "\n",
    "따라서, 같은 주소를 참조하고 있기 때문에 하나라도 값이 바뀌면 a,c 모두 값이 변경되게 된다. "
   ]
  },
  {
   "cell_type": "markdown",
   "id": "71af1a30",
   "metadata": {},
   "source": [
    "4번\n",
    "===\n",
    "* 다음 문자열을 ':'을 기준으로 분리하여 리스트로 만들고 각 문자열의 좌우 공백을 제거하시오 (즉, 문자열 S에서 l을 만들어라)\n",
    "* s = '  first star   :   second star   :    third star  '\n",
    "* l = ['first star', 'second star', 'third star']\n",
    "* 1) for ~ in 문을 이용한 코드를 작성하시오.\n",
    "* 2) 리스트 내포(list comprehension)를 이용한 코드를 작성하시오."
   ]
  },
  {
   "cell_type": "code",
   "execution_count": 70,
   "id": "982441d9",
   "metadata": {},
   "outputs": [
    {
     "name": "stdout",
     "output_type": "stream",
     "text": [
      "['first star', 'second star', 'third star']\n"
     ]
    }
   ],
   "source": [
    "s = ' first star : second star : third star '\n",
    "s= s.split(':')  #여기서 문자열 -> 리스트로 만들어짐 \n",
    "\n",
    "\n",
    "\n",
    "l=[] #값을 저장할 리스트를 만들고 \n",
    "l = [i.strip() for i in s]  #리스트 내포 사용\n",
    "\n",
    "print(l)"
   ]
  },
  {
   "cell_type": "markdown",
   "id": "5ed7cecf",
   "metadata": {},
   "source": [
    "<설명> \n",
    "\n",
    "여기서, split으로 : 을 삭제 했고, 그 다음 새로운 리스트에 원래는 \n",
    "\n",
    "for i in s:\n",
    "    i = i.strip()\n",
    "    l.append(i)\n",
    "    \n",
    "의 과정이 필요하다. 하지만, 여기서는 리스트 내포를 이용해서 간결하게 한줄로 코딩할 수 있고, \n",
    "리스트 내포를 통해서 append 도 사용할 필요없이 간결하게 구성했다. "
   ]
  },
  {
   "cell_type": "markdown",
   "id": "b6d3dbc5",
   "metadata": {},
   "source": [
    "5번\n",
    "===\n",
    "* 다음과 같이 0보다 큰 정수 리스트 변수 list를 인자로 받는 함수 addall(list)와 addallodd(list)를 for ~ in 리터널과 리스트 내포 방식으로 각각 제시하시오.\n",
    "* 1) addall(list) 함수 (리스트 내의 모든 정수를 더하는 함수로서 해답으로는 for ~ in 리터럴과 리스트 내포 방식으로 각각 제시하시오.)\n",
    "* 2) addallodd(list) 함수 (리스트내의 모든 홀수를 더하는 함수로서 해답으로는 for ~ in 리터럴과 리스트 내포 방식으로 각각 제시하시오.)\n"
   ]
  },
  {
   "cell_type": "code",
   "execution_count": 66,
   "id": "876d1cfd",
   "metadata": {},
   "outputs": [
    {
     "data": {
      "text/plain": [
       "[1, 2, 3, 4, 5, 6, 7, 8, 9]"
      ]
     },
     "execution_count": 66,
     "metadata": {},
     "output_type": "execute_result"
    }
   ],
   "source": [
    "def addall(L):\n",
    "    a = 0\n",
    "    \n",
    "    \n",
    "#for in 을 사용한 방법 \n",
    "    #for i in L:\n",
    "    #    a+=i\n",
    "    \n",
    "\n",
    "#내포 방식 \n",
    "\n",
    "    a = [i+a for i in L]\n",
    "    return a\n",
    "    \n",
    "addall([1,2,3,4,5,6,7,8,9])    "
   ]
  },
  {
   "cell_type": "markdown",
   "id": "248271f7",
   "metadata": {},
   "source": []
  },
  {
   "cell_type": "markdown",
   "id": "57e2228b",
   "metadata": {},
   "source": [
    "6번\n",
    "===\n",
    "* 다음 코드를 보고 물음에 답하시오.\n",
    "\n"
   ]
  },
  {
   "cell_type": "code",
   "execution_count": 67,
   "id": "afa9d9ed",
   "metadata": {},
   "outputs": [
    {
     "name": "stdout",
     "output_type": "stream",
     "text": [
      "{'low': [1, 2, 3], 'high': [4, 5, 6]}\n",
      "{'low': [1, 2, 3], 'high': [4, 5, 6]}\n",
      "{'low': [1, 2, 3], 'high': [4, 5, 6]}\n",
      "\n",
      "{'low': [10, 20, 30], 'high': [4, 500, 6]}\n",
      "{'low': [10, 20, 30], 'high': [4, 500, 6]}\n",
      "{'low': [1, 2, 3], 'high': [4, 500, 6]}\n"
     ]
    }
   ],
   "source": [
    "L1 = [1, 2, 3]\n",
    "L2 = [4, 5, 6]\n",
    "d = {'low':L1, 'high':L2}\n",
    "e = d\n",
    "f = d.copy()\n",
    "\n",
    "print(d)\n",
    "print(e)\n",
    "print(f)\n",
    "print()\n",
    "d['low'] = [10, 20, 30]\n",
    "d['high'][1] = 500\n",
    "print(d)\n",
    "print(e)\n",
    "print(f)"
   ]
  },
  {
   "cell_type": "markdown",
   "id": "611a5b5b",
   "metadata": {},
   "source": [
    "* 1) 위 코드의 수행 결과 d와 e는 항상 같은 결과를 출력한다. 그 이유는 무엇인가?\n",
    "* 2) 위 코드의 수행 결과 마지막 f의 내용은 다음과 같다. 이 때 'high' 키의 값 내용 중 500이 출력된 이유와 'low' 키의 값 내용 중 [1, 2, 3]이 출력된 이유를 설명하시오 ([hint]: shallow copy 관점에서 설명하시오.)\n",
    "\n",
    "\n",
    "* {'high': [4, 500, 6], 'low': [1, 2, 3]}"
   ]
  },
  {
   "cell_type": "markdown",
   "id": "6bde6a99",
   "metadata": {},
   "source": [
    "<설명> \n",
    "\n",
    "(1) \n",
    "---\n",
    "e = d 대입 연산자는  값이 할당되는 것이 아니라 같은 메모리 주소를 바라봅니다. 따라서, 원본 값이 \n",
    "변경 되면 똑같이 바뀌게 되는 것입니다. (ex,C언어의 포인터) \n",
    "\n",
    "(2) \n",
    "---\n",
    "여기서는 얕은 복사가 진행되었습니다. 따라서 새로운 래퍼런스를 만들어 복사 합니다. 여기까지는 아무 문제가 없고, \n",
    "\n",
    "따라서 여기서 d['low'] 의 값을 바꾸어도 변경되지 않습니다. \n",
    "\n",
    "하지만, 문제는 f안에 있는 내부까지 복사를 하지 못하는 문제가 있습니다. \n",
    "따라서, F안에 있는 리스트는 아직 D안에 있는 리스트 각각의 값들을 래퍼런스로 참조하고 있기 때문에 \n",
    "\n",
    "F 리스트 항목에 접근하면 원본 값도 바뀌게 되는 것 입니다. \n",
    "\n",
    " ※ 완전하게 복사를 진행하고 싶다면 deepcopy를 통해서 객체 내부의 있는 객체까지 복사를 진행해야 합니다.  \n"
   ]
  },
  {
   "cell_type": "markdown",
   "id": "c35fb1b5",
   "metadata": {},
   "source": [
    "7번\n",
    "===\n",
    "* 사전 d = {'one':1, 'two':2, 'three':3, 'four':4, 'five':5}가 주어졌을 때 다음 요구사항에 맞는 코드를 제시하시오\n",
    "* [참고]: d.keys(), d.values()를 통해 리스트를 얻어낸 후 리스트가 지니고 있는 sort(cmp=None, key=None, reverse=False)함수를 활용하시오.\n",
    "\n",
    "\n",
    "* 1) 키의 알파벳 오름차순 순서대로 튜플 (키, 값)을 차례대로 출력하시오.\n",
    "* 2) 키의 알파벳 내림차순 순서대로 튜플 (키, 값)을 차례대로 출력하시오.\n",
    "* 3) 값의 오름차순 순서대로 튜플 (키, 값)을 차례대로 출력하시오.\n",
    "* 4) 값의 내림차순 순서대로 튜플 (키, 값)을 차례대로 출력하시오."
   ]
  },
  {
   "cell_type": "code",
   "execution_count": 111,
   "id": "e694cfd8",
   "metadata": {},
   "outputs": [
    {
     "ename": "TypeError",
     "evalue": "'list' object is not callable",
     "output_type": "error",
     "traceback": [
      "\u001b[1;31m---------------------------------------------------------------------------\u001b[0m",
      "\u001b[1;31mTypeError\u001b[0m                                 Traceback (most recent call last)",
      "\u001b[1;32m<ipython-input-111-2a0ace690477>\u001b[0m in \u001b[0;36m<module>\u001b[1;34m\u001b[0m\n\u001b[0;32m      2\u001b[0m \u001b[1;33m\u001b[0m\u001b[0m\n\u001b[0;32m      3\u001b[0m \u001b[1;33m\u001b[0m\u001b[0m\n\u001b[1;32m----> 4\u001b[1;33m \u001b[0ma_1\u001b[0m \u001b[1;33m=\u001b[0m \u001b[0mlist\u001b[0m\u001b[1;33m(\u001b[0m\u001b[0mzip\u001b[0m\u001b[1;33m(\u001b[0m\u001b[0md\u001b[0m\u001b[1;33m.\u001b[0m\u001b[0mkeys\u001b[0m\u001b[1;33m(\u001b[0m\u001b[1;33m)\u001b[0m\u001b[1;33m,\u001b[0m\u001b[0md_1\u001b[0m\u001b[1;33m.\u001b[0m\u001b[0mvalues\u001b[0m\u001b[1;33m(\u001b[0m\u001b[1;33m)\u001b[0m\u001b[1;33m)\u001b[0m\u001b[1;33m)\u001b[0m\u001b[1;33m\u001b[0m\u001b[1;33m\u001b[0m\u001b[0m\n\u001b[0m\u001b[0;32m      5\u001b[0m \u001b[1;33m\u001b[0m\u001b[0m\n\u001b[0;32m      6\u001b[0m \u001b[1;33m\u001b[0m\u001b[0m\n",
      "\u001b[1;31mTypeError\u001b[0m: 'list' object is not callable"
     ]
    }
   ],
   "source": [
    "d_1 = {'one':1, 'two':2, 'three':3, 'four':4, 'five':5}\n",
    "\n",
    "\n",
    "a_1 = list(zip(d.keys(),d_1.values()))\n",
    "\n",
    "\n",
    "a_1.sort(reverse=False, key=None)\n",
    "print(\"키의 오름차순 정렬: \" ,a_1)\n",
    "\n",
    "\n",
    "a_1.sort(reverse=True, key=None)\n",
    "print(\"키의 내림차순 정렬: \" ,a_1)\n",
    "\n",
    "\n",
    "a_1.sort(key=lambda d_1: d_1[1],reverse=False)\n",
    "print(\"값의 오름차순 정렬 : \" , a_1)\n",
    "\n",
    "\n",
    "a_1.sort(key=lambda d_1: d_1[1],reverse=True)\n",
    "print(\"값의 내림차순 정렬 : \" , a_1)"
   ]
  },
  {
   "cell_type": "markdown",
   "id": "908fe6c5",
   "metadata": {},
   "source": [
    "<설명> \n",
    "\n",
    "sort()는 리스트에만 사용할 수 있기 때문에 sort를 사용하기 위해서 먼저, 정렬 해 주고 list를 통해서 리스트를 만들어서 sort를 사용했다. \n"
   ]
  },
  {
   "cell_type": "markdown",
   "id": "0146ab65",
   "metadata": {},
   "source": [
    "8번\n",
    "===\n",
    "* 다음 문제를 정확히 읽고 적합한 코딩을 제시하시오.\n",
    "* length(X)를 다음과 같이 정의한다 : 10진수로 표현된 X의 자릿수\n",
    "* Strange라는 숫자를 아래과 같이 정의한다.\n",
    "* 음이 아닌 정수 중 자릿수가 1인 모든 숫자는 Strange이다.\n",
    "* length(X) > 1 인 숫자 X 는 다음 2가지를 만족하면 Strange이다.\n",
    "* X는 length(X)로 정확히 나누어 떨어진다.\n",
    "* X / length(X) 가 strnage이다.\n",
    "\n",
    "* 이 문제에서 숫자 하나가 주어질 때, 이 숫자가 Strange인지 판단하는 함수 isStrange(num)을 작성하시오.\n",
    "* isStrange(num) 함수가 재귀적인 함수가 되도록 작성해 보세요."
   ]
  },
  {
   "cell_type": "code",
   "execution_count": 114,
   "id": "b9dff909",
   "metadata": {},
   "outputs": [
    {
     "data": {
      "text/plain": [
       "False"
      ]
     },
     "execution_count": 114,
     "metadata": {},
     "output_type": "execute_result"
    }
   ],
   "source": [
    "def isStrange(num):\n",
    "\n",
    "    \n",
    "    \n",
    "\n",
    "    if len(str(num))==1:\n",
    "        return True\n",
    "    \n",
    "    elif num % len(str(num)) !=0 :\n",
    "        return False\n",
    "    elif num % len(str(num)) == 0:\n",
    "        return isStrange(num % len(str(num)))\n",
    "    \n",
    "    \n",
    "\n",
    "    \n",
    "    \n",
    "    \n",
    "isStrange(6012302549522098651)\n"
   ]
  },
  {
   "cell_type": "markdown",
   "id": "8211f23b",
   "metadata": {},
   "source": [
    "<설명> \n",
    "\n",
    "\n",
    "여기서, 나누어서 나누어 떨어진다면 재귀함수를 이용해서 나눈 값을 다시 불러 계산한다. \n",
    "\n",
    "나누어 떨어지지 않았다면 isStrange가 아니므로 False를 반환한다. \n",
    "\n",
    "계속 맞다면 계속 재귀함수를 통해 계속 호출한다."
   ]
  },
  {
   "cell_type": "markdown",
   "id": "6c4e5aca",
   "metadata": {},
   "source": [
    "9번\n",
    "===\n",
    "* 다음 문제를 정확히 읽고 적합한 코딩을 제시하시오.\n",
    "\n",
    "* 1번 그룹, 2번 그룹, ... n번 그룹으로 번호가 매겨진 총 n개의 그룹이 존재하고, ith 그룹에는 임의의 팀원 수 ai 명이 있다.\n",
    "* 하나의 버스 정류장이 있고, 버스는 오직 한 대만 운영한다. 버스는 버스 정류장에 도착하고 모든 그룹은 버스를 통해 여행하길 원한다.\n",
    "* 하지만, 같은 그룹에 속한 팀원들은 분리되기를 원치 않는다. 그래서 그룹의 모든 팀원이 탈 수 있을 때 에만 그 그룹은 버스에 탑승한다.\n",
    "* 또한, 이들은 그룹의 번호순으로 여행을 하길 원한다. 예를 들어, 3번 그룹은 1번 그룹과 2번 그룹이 여행을 한 뒤에 버스를 탈 수 있거나, 1번 * 그룹과 2번 그룹이 이미 버스에 탑승한 상태에 있을 때 동시에 버스를 탈 수 있다.\n",
    "* 마지막으로, 버스는 빈 좌석이 없을 때 에만 여행을 떠난다.\n",
    "\n",
    "\n",
    "* 이 문제에서 각 그룹의 팀원 수가 리스트로 주어질 때, 가능한 모든 버스의 사이즈 x(x명의 사람들이 동시에 탈 수 있음)를 반환하는 함수 solve(a) 를 작성하시오.\n",
    "* [주의] 반드시 계산 복잡도를 최대한 낮추세요. 아래 예시 3번을 실행했을 때 결과가 바로 나타날 수 있도록!!"
   ]
  },
  {
   "cell_type": "code",
   "execution_count": 82,
   "id": "73f054c1",
   "metadata": {},
   "outputs": [
    {
     "name": "stdout",
     "output_type": "stream",
     "text": [
      "[9999, 19998, 39996, 49995, 79992, 99990, 159984, 199980, 249975, 399960, 499950, 799920, 999900, 1249875, 1999800, 2499750, 3999600, 4999500, 6249375, 9999000, 12498750, 19998000, 24997500, 49995000, 99990000]\n"
     ]
    }
   ],
   "source": [
    "list = [9999] * 10**4\n",
    "\n",
    "result = [] \n",
    "count =0 \n",
    "range_min=0\n",
    "range_max=1\n",
    "\n",
    "\n",
    "\n",
    "n=sum(list)\n",
    "divisorsList = []\n",
    "\n",
    "for i in range(1, int(n**(1/2)) + 1):   #약수를 구하는 부분 \n",
    "    if (n % i == 0):\n",
    "        divisorsList.append(i) \n",
    "        if ( (i**2) != n) : \n",
    "            divisorsList.append(n // i)\n",
    "            \n",
    "divisorsList.sort()\n",
    "\n",
    "\n",
    "range_result = [i for i in divisorsList if i>= max(list)]  #약수 중에서 최소 값 정해주기\n",
    "\n",
    "\n",
    "\n",
    "while (count < len(range_result) ):    #더하면서 순위 맞는 지 검사하는 부분\n",
    "\n",
    "        b=list[range_min:range_max] \n",
    "\n",
    "        if range_result[count] == sum(b):   #그룹 순위대로 차에 끊기 \n",
    "            range_min=range_max\n",
    "            range_max=range_max+1 \n",
    "\n",
    "\n",
    "            if (range_min == len(list)):     #끝까지 검사했는데 딱 맞아 떨어졌을 때 \n",
    "                result.append(range_result[count]) \n",
    "                \n",
    "                \n",
    "                count +=1\n",
    "                range_min=0\n",
    "                range_max=1\n",
    "\n",
    "\n",
    "\n",
    "\n",
    "        else:    #아니면 범위를 늘리자\n",
    "            \n",
    "            if (sum(b) > range_result[count]):  #시간 복잡도 줄이기 만약 더하면서 검사하는데, 범위를 초과하면 뒤는 검사 x 하고 다음 \n",
    "                count +=1\n",
    "                range_min=0\n",
    "                range_max=1\n",
    "                \n",
    "            range_max+=1\n",
    "          \n",
    "\n",
    "        \n",
    "print(result)\n"
   ]
  },
  {
   "cell_type": "markdown",
   "id": "514bc0f1",
   "metadata": {},
   "source": [
    "<설명>\n",
    "먼저, 문제부터 확인하겠다. \n",
    "문제를 해석하고 나서 찾아낸 조건이 있다.\n",
    "1. 버스에 태우는 최소값은 max(list) 이다. \n",
    "2. 버스에 태우는 최대값은 sum(list) 이다.\n",
    "3. 앞 순서대로 버스에 태우면서 나머지가 없는 지 확인해야 한다.  \n",
    "4. 최대값= sum(list)의 약수이다. \n",
    "\n",
    "따라서, 해당 조건을 모두 만족해야 한다.\n",
    "\n",
    "다음 조건을 통해서 코딩을 해보자. \n",
    "\n",
    "------\n",
    "\n",
    "1. 모든 값을 대입해보면서 버스 사이즈X를 구하는 것은 시간 복잡도를 매우 높게 하는 코드이다. 따라서, 4번 조건을 통해서 우리가 예상할 수 있는 버스 사이즈를 구해놓자,  \n",
    "\n",
    " >예를 들어 [1, 2, 1, 1, 1, 2, 1, 3] 를 보면, 최대값의 약수는 12의 약수이다. [1,2,3,4,6,12] \n",
    "\n",
    "\n",
    "2. 이제 약수들 중에서 최소값과 최대값 범위를 지정해서 더욱 범위를 줄인다. \n",
    "\n",
    ">최소 3이상 최대 12이하 조건 만족하는 약수 = [3,4,6,12]\n",
    "\n",
    "3. 이제 버스에 그룹 순서대로 타야하기 때문에 검사를 해주자, 순서대로 탔는지 ! \n",
    "\n",
    ">여기서는 모든 정수를 검사할 필요 없이 [3,4,6,12] 4개의 항목만 검사하면 된다. \n",
    "\n",
    "\n",
    "* 여기서 시간 복잡도를 줄이기 위해 만약에 검사하다가     검사하는 값(ex [3]) 보다 그룹 별 태우는 수를 초과 할 경우, 뒤에는 볼 필요 없이 다음 값을 검사하도록 하여 시간 복잡도를 줄였다.   \n",
    "\n",
    "\n"
   ]
  },
  {
   "cell_type": "markdown",
   "id": "d7b9709f",
   "metadata": {},
   "source": [
    "[Incremental Project 문제]\n",
    "==="
   ]
  },
  {
   "cell_type": "code",
   "execution_count": 113,
   "id": "65f60a1b",
   "metadata": {
    "scrolled": false
   },
   "outputs": [
    {
     "name": "stdout",
     "output_type": "stream",
     "text": [
      "모든 단어의 갯수는 :  558 개 입니다.\n"
     ]
    }
   ],
   "source": [
    "import requests\n",
    "import re\n",
    "\n",
    "\n",
    "req = requests.get('https://www.koreatech.ac.kr/kor/Main.do')\n",
    "\n",
    "source = req.text\n",
    "\n",
    "\n",
    "\n",
    "\n",
    "\n",
    "source = re.sub('<script.*?>.*?</script>', '', source, 0, re.I|re.S)  #Script 사이 내용 삭제 \n",
    "\n",
    "source =  re.sub(r'(?s)\\<.*?\\>[^\\w\\s]*', '', source).replace('\\n', '')    # < > 사이 태그 문자 삭제 \n",
    "\n",
    "source =  re.sub(r'(?s)\\>.*?\\>[^\\w\\s]*', '', source).replace('\\n', '')     # > > 사이 문자 삭제 \n",
    "\n",
    "source =  re.sub(r'(?s)\\{.*?\\}[^\\w\\s]*', '', source).replace('\\n', '')     # {  }사이 문자 제거 \n",
    "\n",
    "source =  re.sub('[-=+,#/\\?:^$.@*\\\"※~&%ㆍ!』;}\\\\‘|\\(\\)\\[\\]\\<\\>`\\'…》]', '', source)   #특수문자 제거 \n",
    "\n",
    "#source = re.sub('[a-zA-z-0-9]', '', source)\n",
    "\n",
    "\n",
    "\n",
    "source_list = source.split()    # 공백으로 문자들을 나누고 \n",
    "\n",
    "#for i in source_list:\n",
    "    #if (len(i)<20):       #띄어쓰기가 안된 엄청 긴 단어들은 표현 x \n",
    "        #print(i)          #주석처리 해제 하면 결과 출력 됩니다!  \n",
    "        \n",
    "   \n",
    "        \n",
    "print(\"모든 단어의 갯수는 : \",len(source_list), \"개 입니다.\")   "
   ]
  },
  {
   "cell_type": "markdown",
   "id": "a08464f6",
   "metadata": {},
   "source": [
    "<소감>\n",
    "===\n",
    "\n",
    "이번 과제를 해보면서 난이도가 있었던 것 같고 완벽하게 구현하지 못한 내용도 많다, 이번에 구현하지 못한 내용들은 파이썬 과목을 더욱 독학하고 복습해서 보완해보려고 노력해야겠다."
   ]
  }
 ],
 "metadata": {
  "kernelspec": {
   "display_name": "Python 3",
   "language": "python",
   "name": "python3"
  },
  "language_info": {
   "codemirror_mode": {
    "name": "ipython",
    "version": 3
   },
   "file_extension": ".py",
   "mimetype": "text/x-python",
   "name": "python",
   "nbconvert_exporter": "python",
   "pygments_lexer": "ipython3",
   "version": "3.8.8"
  }
 },
 "nbformat": 4,
 "nbformat_minor": 5
}
