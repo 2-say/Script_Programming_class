{
 "cells": [
  {
   "cell_type": "markdown",
   "id": "c2e50ade",
   "metadata": {},
   "source": [
    "1번\n",
    "================\n",
    "+ a=\"Hello Python\" 문자열을 Slicing과 연결 연산자 (+)를 사용하여 \"Python Hello\"로 변경하시오.\n",
    "[주의] a 변수 자체에 \"Python Hello\" 문자열이 저장되어야 함"
   ]
  },
  {
   "cell_type": "code",
   "execution_count": 21,
   "id": "9501557e",
   "metadata": {},
   "outputs": [
    {
     "name": "stdout",
     "output_type": "stream",
     "text": [
      "Python Hello\n"
     ]
    }
   ],
   "source": [
    "a = \"Hello Python\"\n",
    "a1 = a[6:12]\n",
    "a2 = a[0:5]\n",
    "a3= a[5:6]\n",
    "a= a1+a3+a2\n",
    "\n",
    "print(a)\n",
    "\n"
   ]
  },
  {
   "cell_type": "markdown",
   "id": "757b6ffd",
   "metadata": {},
   "source": [
    "막 다운 사용 법 익혀보기\n",
    "------------------------------\n",
    "+ 막 다운을 이렇게 작성해서 사용하는 게 맞는 건지 정확하게 모르겠다. \n",
    "그리고, 막다운 역활이 주석과 비슷한 역활을 하는 건지 궁금하다. \n",
    "\n",
    "\n",
    "+ 일단은 다양한 기능을 연습해보면서 다음 과제에서는 더욱 깔끔하게 작성하고 싶다.\n",
    "\n",
    "\n",
    "+ 이 코드에서 내가 작성한 코드 방법은 슬라이싱을 이용해서 *Hello*와 *Python*을 분해 시켰고, 그 둘을 +연산자를 통해서 \n",
    "묶어주었다.\n",
    "\n",
    "> 여기서 공백을 따로 추가할 방법을 어떻게 할 지 몰라서 d를 만들어서 지저분하지만 a[5:6] 을 추가 시켰다."
   ]
  },
  {
   "cell_type": "markdown",
   "id": "029221dc",
   "metadata": {},
   "source": [
    "2번\n",
    "=============\n",
    "+ b=\"Hello Python World\" 문자열을 Slicing과 연결 연산자 (+)를 사용하여 \"World Python Hello\"로 변경하시오.\n",
    "[주의] b 변수 자체에 \"World Python Hello\" 문자열이 저장되어야 함"
   ]
  },
  {
   "cell_type": "code",
   "execution_count": 29,
   "id": "fac265dc",
   "metadata": {
    "scrolled": true
   },
   "outputs": [
    {
     "name": "stdout",
     "output_type": "stream",
     "text": [
      "World Python Hello\n"
     ]
    }
   ],
   "source": [
    "b = \"Hello Python World\"\n",
    "b1 = b[0:5]   #Hello\n",
    "b2 = b[6:12]  #Python\n",
    "b3 = b[13:19] #World\n",
    "b4 = b[5:6]  #\" \"\n",
    "b = b3 + b4 +b2 + b4 + b1 \n",
    "\n",
    "print(b)"
   ]
  },
  {
   "cell_type": "markdown",
   "id": "62487bea",
   "metadata": {},
   "source": [
    "+ 이 코드도 위와 동일하게 작동한다. \n",
    "\n",
    "> 앞에 한 공백을 b4에 적용해서 + 연산자로 계산했다"
   ]
  },
  {
   "cell_type": "markdown",
   "id": "3c3a2030",
   "metadata": {},
   "source": [
    "3번\n",
    "=========\n",
    "+ c=\"Hello\"를 \"olleH\"로 변경하시오\n",
    "[주의] c 변수 자체에 \"olleH\" 문자열이 저장되어야 함"
   ]
  },
  {
   "cell_type": "code",
   "execution_count": 36,
   "id": "04b88423",
   "metadata": {},
   "outputs": [
    {
     "name": "stdout",
     "output_type": "stream",
     "text": [
      "olleH\n"
     ]
    }
   ],
   "source": [
    "c = 'Hello' \n",
    "\n",
    "c = c[::-1]\n",
    "\n",
    "print(c)"
   ]
  },
  {
   "cell_type": "markdown",
   "id": "abc9303f",
   "metadata": {},
   "source": [
    "거꾸로 출력하기\n",
    "--------------\n",
    "> 거꾸로 출력하는 방법은 다양한 방법이 있었다.\n",
    "\n",
    "1. for문을 통해서 거꾸로 입력을 하는 방법.\n",
    "\n",
    "\n",
    "2. .reverse() 리스트 함수를 통해 거꾸로 저장해서 출력하는 방법\n",
    "\n",
    "\n",
    "3. 문자열에 인덱스는 뒤에서 부터 -1 ~ 로 되어있기 때문에 a[::-1] 로 하면 맨 뒤에서 부터 출력된다."
   ]
  },
  {
   "cell_type": "markdown",
   "id": "70ad9ad1",
   "metadata": {},
   "source": [
    "4번\n",
    "===============\n",
    " + s=\"python\"에 대해 다음 문제를 풀어보시오"
   ]
  },
  {
   "cell_type": "markdown",
   "id": "ee14cb79",
   "metadata": {},
   "source": [
    "a)\n",
    "---\n",
    "+ s[0], s[0][0], s[0][0][0]은 각각 어떤 값이 나오는지 확인하고 그 이유를 나름대로 설명해 보시오."
   ]
  },
  {
   "cell_type": "code",
   "execution_count": 45,
   "id": "9b3b7396",
   "metadata": {},
   "outputs": [
    {
     "name": "stdout",
     "output_type": "stream",
     "text": [
      "P\n",
      "P\n",
      "P\n"
     ]
    }
   ],
   "source": [
    "s = \"Python\"\n",
    "print(s[0])\n",
    "print(s[0][0])\n",
    "print(s[0][0][0])"
   ]
  },
  {
   "cell_type": "markdown",
   "id": "964feb27",
   "metadata": {},
   "source": [
    "+ 결과를 보면 모두 P만 출력되었음을 확인할 수 있는데, 인덱싱으로 2차원, 3차원을 해도 처음 시작은 0으로 저장된다.\n",
    "그래서 모두 P의 값을 출력한 것이고, 문자열을 0열에 저장시킨다. 따라서 행을 1씩 증가시키면 우리가 저장한 Python이 출력된다. "
   ]
  },
  {
   "cell_type": "markdown",
   "id": "7ad82480",
   "metadata": {},
   "source": [
    "b)\n",
    "----\n",
    "+ s[-100], s[100]은 값이 나오는지 에러가 나오는지 확인하고 그 결과에 대한 이유를 나름대로 설명해 보시오."
   ]
  },
  {
   "cell_type": "code",
   "execution_count": 47,
   "id": "53e65a63",
   "metadata": {},
   "outputs": [
    {
     "ename": "IndexError",
     "evalue": "string index out of range",
     "output_type": "error",
     "traceback": [
      "\u001b[1;31m---------------------------------------------------------------------------\u001b[0m",
      "\u001b[1;31mIndexError\u001b[0m                                Traceback (most recent call last)",
      "\u001b[1;32m<ipython-input-47-e43998e23096>\u001b[0m in \u001b[0;36m<module>\u001b[1;34m\u001b[0m\n\u001b[1;32m----> 1\u001b[1;33m \u001b[0mprint\u001b[0m\u001b[1;33m(\u001b[0m\u001b[0ms\u001b[0m\u001b[1;33m[\u001b[0m\u001b[1;36m100\u001b[0m\u001b[1;33m]\u001b[0m\u001b[1;33m)\u001b[0m\u001b[1;33m\u001b[0m\u001b[1;33m\u001b[0m\u001b[0m\n\u001b[0m\u001b[0;32m      2\u001b[0m \u001b[0mprint\u001b[0m\u001b[1;33m(\u001b[0m\u001b[0ms\u001b[0m\u001b[1;33m[\u001b[0m\u001b[1;33m-\u001b[0m\u001b[1;36m100\u001b[0m\u001b[1;33m]\u001b[0m\u001b[1;33m)\u001b[0m\u001b[1;33m\u001b[0m\u001b[1;33m\u001b[0m\u001b[0m\n",
      "\u001b[1;31mIndexError\u001b[0m: string index out of range"
     ]
    }
   ],
   "source": [
    "print(s[100])\n",
    "print(s[-100])"
   ]
  },
  {
   "cell_type": "markdown",
   "id": "317fcd9b",
   "metadata": {},
   "source": [
    "+ 결과에 에러 내용을 확인해 보면, string index out of range 가 나오는데, 그 이유는 문자열을 처음에 선언할 때 \"Python\"을\n",
    "저장할 정도에 크기만 컴퓨터가 효율적으로 알아서 할당하는데, -100,100은 컴퓨터가 할당한 범위를 벗어나 참조를 했기 때문에\n",
    "오류가 발생 했다."
   ]
  },
  {
   "cell_type": "markdown",
   "id": "fbb46542",
   "metadata": {},
   "source": [
    "c)\n",
    "---\n",
    "+ s[-100, 100]은 값이 나오는지 에러가 나오는지 확인하고 그 결과에 대한 이유를 나름대로 설명해 보시오."
   ]
  },
  {
   "cell_type": "code",
   "execution_count": 1,
   "id": "52662cfa",
   "metadata": {},
   "outputs": [
    {
     "ename": "NameError",
     "evalue": "name 's' is not defined",
     "output_type": "error",
     "traceback": [
      "\u001b[1;31m---------------------------------------------------------------------------\u001b[0m",
      "\u001b[1;31mNameError\u001b[0m                                 Traceback (most recent call last)",
      "\u001b[1;32m<ipython-input-1-8e3036c87757>\u001b[0m in \u001b[0;36m<module>\u001b[1;34m\u001b[0m\n\u001b[1;32m----> 1\u001b[1;33m \u001b[0mprint\u001b[0m\u001b[1;33m(\u001b[0m\u001b[0ms\u001b[0m\u001b[1;33m[\u001b[0m\u001b[1;33m-\u001b[0m\u001b[1;36m100\u001b[0m\u001b[1;33m,\u001b[0m\u001b[1;36m100\u001b[0m\u001b[1;33m]\u001b[0m\u001b[1;33m)\u001b[0m\u001b[1;33m\u001b[0m\u001b[1;33m\u001b[0m\u001b[0m\n\u001b[0m",
      "\u001b[1;31mNameError\u001b[0m: name 's' is not defined"
     ]
    }
   ],
   "source": [
    "print(s[-100,100])"
   ]
  },
  {
   "cell_type": "markdown",
   "id": "cdf99471",
   "metadata": {},
   "source": [
    "+ 오류를 보면, 문자열의 인덱스는 정수형이여야한다고 나온다, 인덱스 부분에 정수가 아닌 -100,100을 입력했기 때문에, 오류가 발생했다."
   ]
  },
  {
   "cell_type": "markdown",
   "id": "d9223bf8",
   "metadata": {},
   "source": [
    "D)\n",
    "-----\n",
    "+ s[1:-1]의 결과를 확인하고 그 결과에 대한 이유를 정확하게 설명하시오."
   ]
  },
  {
   "cell_type": "code",
   "execution_count": 56,
   "id": "eabde878",
   "metadata": {},
   "outputs": [
    {
     "name": "stdout",
     "output_type": "stream",
     "text": [
      "Pytho\n"
     ]
    }
   ],
   "source": [
    "print(s[0:-1])"
   ]
  },
  {
   "cell_type": "markdown",
   "id": "2db87d12",
   "metadata": {},
   "source": [
    "+ 출력 결과는 Pytho 이 출력된다. 슬라이싱 할때 [시작:종료]에 범위인데 종료값은 포함 되지 않는다. 그리고 뒤에서 부터 -1부터 시작되어서 -2,-3 ~~~ 증가한다. 따라서 0(처음부터) -1(마지막 포함안됨 = n) 까지 출력되었다. "
   ]
  },
  {
   "cell_type": "markdown",
   "id": "8d356db5",
   "metadata": {},
   "source": [
    "E)\n",
    "----\n",
    "+ s[3:-3]의 결과를 확인하고 그 결과에 대한 이유를 정확하게 설명하시오."
   ]
  },
  {
   "cell_type": "code",
   "execution_count": 63,
   "id": "18739a9a",
   "metadata": {},
   "outputs": [
    {
     "name": "stdout",
     "output_type": "stream",
     "text": [
      "\n"
     ]
    }
   ],
   "source": [
    "print(s[3:-3])"
   ]
  },
  {
   "cell_type": "markdown",
   "id": "02e6dc24",
   "metadata": {},
   "source": [
    "+ 아무것도 출력되지 않았다. 그 이유는 아까 말했듯이 뒤에서 부터 -1 씩 거꾸로 매겨지는데, \"h\" 부분이 3이자 -3이다. \n",
    "따라서 같은 범위를 출력하라고 했으니 [3:3] 이므로 아무것도 출력되지 않았다. "
   ]
  },
  {
   "cell_type": "markdown",
   "id": "bbc75f6e",
   "metadata": {},
   "source": [
    "5번\n",
    "====\n",
    "+ for문을 활용하여 1부터 100사이의 홀수를 출력하시오."
   ]
  },
  {
   "cell_type": "code",
   "execution_count": 136,
   "id": "70907653",
   "metadata": {},
   "outputs": [
    {
     "name": "stdout",
     "output_type": "stream",
     "text": [
      "1\n",
      "3\n",
      "5\n",
      "7\n",
      "9\n",
      "11\n",
      "13\n",
      "15\n",
      "17\n",
      "19\n",
      "21\n",
      "23\n",
      "25\n",
      "27\n",
      "29\n",
      "31\n",
      "33\n",
      "35\n",
      "37\n",
      "39\n",
      "41\n",
      "43\n",
      "45\n",
      "47\n",
      "49\n",
      "51\n",
      "53\n",
      "55\n",
      "57\n",
      "59\n",
      "61\n",
      "63\n",
      "65\n",
      "67\n",
      "69\n",
      "71\n",
      "73\n",
      "75\n",
      "77\n",
      "79\n",
      "81\n",
      "83\n",
      "85\n",
      "87\n",
      "89\n",
      "91\n",
      "93\n",
      "95\n",
      "97\n",
      "99\n"
     ]
    }
   ],
   "source": [
    "for i in range(0,100):\n",
    "    if  (i%2)!= 0:\n",
    "        print(i)\n",
    "        \n",
    "        \n"
   ]
  },
  {
   "cell_type": "markdown",
   "id": "cdfd63a8",
   "metadata": {},
   "source": [
    "홀수 출력하기\n",
    "---\n",
    "\n",
    "+ 홀수를 출력하는 건 간단하다 2로 나누어서 나머지가 0이 아니라면 홀수이기 때문에 조건문을 설정해주고 \n",
    "1부터 100사이에 값을 확인하기 위해서 for문으로 100번 반복 시켜준다! "
   ]
  },
  {
   "cell_type": "markdown",
   "id": "9e370d62",
   "metadata": {},
   "source": [
    "6번\n",
    "===\n",
    "+ while문을 활용하여 1부터 100사이의 짝수의 합을 계산하여 출력하시오."
   ]
  },
  {
   "cell_type": "code",
   "execution_count": 277,
   "id": "20e92ed3",
   "metadata": {},
   "outputs": [
    {
     "name": "stdout",
     "output_type": "stream",
     "text": [
      "2550\n"
     ]
    }
   ],
   "source": [
    "n=0\n",
    "result= 0\n",
    "while n<=100:\n",
    "    if n%2 == 0:\n",
    "        result = n + result\n",
    "        \n",
    "    n= n+1\n",
    "            \n",
    "print(result)\n"
   ]
  },
  {
   "cell_type": "markdown",
   "id": "8ddcb24f",
   "metadata": {},
   "source": [
    "+ 이 문제에 해결 방법은 먼저, while문을 사용해야하고, while문을 100번 반복해야하니까 n <= 100을 조건식으로 한다.\n",
    "\n",
    "그리고, n을 1씩 증가시키면서 짝수인지 확인하기 위해서 if문으로 짝수를 확인한다. \n",
    "\n",
    "만약 짝수이면, 결과에 result += n을 해서 모두 더한다. \n",
    "결과를 출력하면 답이 나온다. "
   ]
  },
  {
   "cell_type": "markdown",
   "id": "1b45ad69",
   "metadata": {},
   "source": [
    "7번\n",
    "===\n",
    "+ 사용자로 부터 임의의 정수를 입력받고, 해당 숫자를 역순으로 출력하는 프로그램을 작성하시오.\n",
    " > [실행 예]\n",
    "\n",
    " >정수를 입력하세요: 3125\n",
    " >숫자 역순은 5213 입니다."
   ]
  },
  {
   "cell_type": "code",
   "execution_count": 288,
   "id": "cee54f7a",
   "metadata": {},
   "outputs": [
    {
     "name": "stdout",
     "output_type": "stream",
     "text": [
      "3125\n",
      "5213"
     ]
    }
   ],
   "source": [
    "input_val = input()\n",
    "\n",
    "for j in range(len(input_val)):\n",
    "    print(input_val[(len(input_val))-(j+1)],end ='')"
   ]
  },
  {
   "cell_type": "markdown",
   "id": "42c32ea0",
   "metadata": {},
   "source": [
    "+ 내가 구동한 함수 내용은 다음과 같다.\n",
    " 1. input_val 입력을 받고 \n",
    " 2. 반복문을 돌린다. 반복문은 입력한 수에 갯수만큼 반복한다.\n",
    " 3. 인덱스를 사용해서 역순으로 입력하고 출력하라 그리고 end=''을 조건을 주어서 개행을 삭제한다.\n",
    " \n",
    " >예를 들면 100을 입력하면 인덱스는 2부터~ 0까지 출력하면 된다. \n",
    "  따라서, 반복문에서 입력 길이(3)에서 (j+1)= 1~3 를빼면 2,1,0이 정상 출력된다. \n"
   ]
  },
  {
   "cell_type": "markdown",
   "id": "f99d376d",
   "metadata": {},
   "source": [
    "8번\n",
    "===\n",
    "+ 사용자로 부터 정수를 입력받아서 1부터 그 사이에 존재하는 소수 (Prime number)를 출력하는 파이썬 프로그램을 작성하시오."
   ]
  },
  {
   "cell_type": "code",
   "execution_count": 19,
   "id": "9961629a",
   "metadata": {
    "scrolled": false
   },
   "outputs": [
    {
     "name": "stdout",
     "output_type": "stream",
     "text": [
      "100\n",
      "2\n",
      "3\n",
      "5\n",
      "7\n",
      "11\n",
      "13\n",
      "17\n",
      "19\n",
      "23\n",
      "29\n",
      "31\n",
      "37\n",
      "41\n",
      "43\n",
      "47\n",
      "53\n",
      "59\n",
      "61\n",
      "67\n",
      "71\n",
      "73\n",
      "79\n",
      "83\n",
      "89\n",
      "97\n"
     ]
    }
   ],
   "source": [
    "input_val1 = int(input())\n",
    "count = 0 \n",
    "\n",
    "\n",
    "for j in range(2,input_val1+1):   #입력한 값까지 검사하는 반복문 \n",
    "    for i in range(2,input_val1): #모든 정수로 증가시키면서 나눠보기 \n",
    "        if (j>=i) and (j%i == 0): \n",
    "            count += 1\n",
    "    if count==1:\n",
    "        print(j)\n",
    "    \n",
    "    count = 0\n",
    "    \n",
    "    "
   ]
  },
  {
   "cell_type": "markdown",
   "id": "b30465e7",
   "metadata": {},
   "source": [
    "소수 구하기\n",
    "----\n",
    "+ 소수 구하기는 다양한 프로그래밍 언어에서 자주 테스트 되는 문제이다. \n",
    "\n",
    "> 나의 알고리즘: 모든 수는 자기자신으로 나누어지기 때문에 1을 제외하고 1번만 나눠졌다면 넌 소수이다! \n",
    "\n",
    "1. 내가 해결한 방법은 먼저, 사용자가 입력한 값 사이에 소수인지 판별을 해야한다. 따라서 1부터 사용자가 입력한 값 까지 소수인지 하나씩 확인하기 위해서 For문이 필요하다. 범위는 2부터(1은 소수가 아님) input_val+1 (마지막 값 포함시키기 위해 +1 ) 까지 \n",
    "\n",
    "\n",
    "\n",
    "2. 그 다음 나눌 값도 1부터 증가 시켜서 소수인지 판별해야한다. 그래서 For문 하나더 포함시키고 1로 모든 값이 나눠지기 때문에 시작 1제외, 자기 자신 값도 모두 나눠지기 때문에 마지막 값 제외 input_val 까지 \n",
    "\n",
    "\n",
    "\n",
    "3. 그 다음 만약 나누어졌다면, 확인하기 위해서 count 변수에 1을 증가시키고 안쪽 for문이 끝난 후 확인해보자\n",
    "\n",
    "\n",
    "\n",
    "4. count ==1 이면 넌 자기자신으로 나눠졌기 때문에 소수이다. 출력하자\n"
   ]
  },
  {
   "cell_type": "markdown",
   "id": "070d392e",
   "metadata": {},
   "source": [
    "9번\n",
    "====\n",
    "+ Kevin과 Stuart는 게임을 한다. 규칙은 아래와 같다.\n",
    "\n",
    "+ 두 플레이어에게 같은 string, S, 가 주어진다.\n",
    "+ 두 플레이어는 string S의 문자를 사용하여 substring을 만들어야 한다(중복 가능).\n",
    "+ Stuart는 자음으로 시작하는 단어를 만들어야 한다.\n",
    "+ Kevin은 모음으로 시작하는 단어를 만들어야 한다.\n",
    "+ 게임은 두 플레이어가 만들 수 있는 모든 단어를 만들었을 때 끝난다.\n",
    "+ 점수 계산 : substring 1개당 +1 점을 획득한다. (아래 그림 참고)\n",
    "+ 사용자로 부터 대문자로 이루어진 string S를 입력받고, 승자와 그의 점수를 출력하는 프로그램을 작성하시오.\n",
    "\n",
    "> [실행 예]\n",
    "  \n",
    ">  string S를 입력하세요: BANANA\n",
    "  승자: Stuart 점수: 12"
   ]
  },
  {
   "cell_type": "code",
   "execution_count": 31,
   "id": "8a0c25a6",
   "metadata": {
    "scrolled": false
   },
   "outputs": [
    {
     "name": "stdout",
     "output_type": "stream",
     "text": [
      "String s를 입력하세여: Banana\n",
      "승자: Stuart 점수:  12\n"
     ]
    }
   ],
   "source": [
    "items =[]\n",
    "print(\"String s를 입력하세여: \",end='')\n",
    "items = input()\n",
    "\n",
    "kevin_score =0\n",
    "stuart_score=0\n",
    "for n in range(len(items),0,-1):\n",
    "   \n",
    "    for i in range(0,n):\n",
    "        items[i]\n",
    "        if items[i] == 'a' or items[i] == 'e' or items[i] == 'i' or items[i] == 'o' or items[i] == 'u' :\n",
    "                kevin_score += 1\n",
    "        else:\n",
    "            stuart_score+=1\n",
    "            \n",
    "        \n",
    "if(kevin_score>stuart_score):\n",
    "    print(\"승자: Kevin 점수: \",kenvin_score)\n",
    "elif(kevin_score<stuart_score):\n",
    "    print(\"승자: Stuart 점수: \",stuart_score)    \n",
    "\n",
    "else:\n",
    "    print(\"동점입니다 점수: \", kevin_score)\n",
    "         \n",
    "        \n"
   ]
  },
  {
   "cell_type": "markdown",
   "id": "ee833a30",
   "metadata": {},
   "source": [
    "> 문제를 이해하는 데만 많은 시간이 소요된 것 같다....\n",
    "\n",
    "\n",
    "+ 이 문제는 단어를 끊고 끊고 해서 맨 앞이 자음인지 모음인지 구별해서 그 횟수를 찾는 것이다. \n",
    "\n",
    "+ 여기서 Banana로 예를 들면, \n",
    "+ 1개씩 끊을 때: b,a,n,a,n,a (6개)\n",
    "+ 2개씩 끊을 때:ba,an,na,an,na(5개)\n",
    "+ 3개씩 끊을 때:ban,ana,nan,ana(4개)\n",
    "+ 4개씩 끊을 때:bana,anan,nana(3개)\n",
    "+ 5개씩 끊을 때:banan,anana(2개)\n",
    "+ 6개씩 끊을 때:banana(1개) \n",
    "+ 총합: 21개\n",
    "\n",
    "\n",
    "+ 이 것을 보면, 두 사람에 점수 총합은 21인 것을 알 수 있고, 문자열을 2중 반복문을 통해서 이와 같은 역활을 하도록 for문을 설계했다. ex)[0:5]반복 ~ [0:4]반복~ .... \n",
    "\n",
    "\n",
    "+ 이런 수행을 진행 할때 만약 모음이라면 stuart에 카운팅을 해주고 그 외라면(else) kevin에 카운팅을 해준다.\n",
    "\n",
    "\n",
    "+ 마지막으로 두 점수를 비교해서 높은 사람에게 승자를 부여했다. "
   ]
  },
  {
   "cell_type": "markdown",
   "id": "d989d6e2",
   "metadata": {},
   "source": [
    "10번\n",
    "====\n",
    "+ 알파벳 소문자만으로 이루어진 string, S, 가 주어지고 아래 2가지 연산을 수행할 수 있다.\n",
    "+ 추가 : string S의 끝에 알파벳 소문자 하나를 추가한다.\n",
    "+ 삭제 : string S의 마지막 문자 하나를 삭제한다. empty string에서 삭제 연산을 수행한 결과는 empty string이다.\n",
    "+ 두 개의 string, s와 t, 그리고 정수 k가 주어질 때, 정확히 k번의 연산을 통해 s를 t로 바꿀 수 있는지 판단하는 함수를 작성하시오.\n",
    "> 예시\n",
    "\n",
    ">  1. s = 'hackerhappy'    t = 'hackerrank'    k = 9    => 'Yes'\n",
    "\n",
    ">  2. s = 'aba'            t = 'aba'           k = 7    => 'Yes'\n",
    "\n",
    ">   3. s = 'ashley'         t = 'ash'           k = 2    => 'No'"
   ]
  },
  {
   "cell_type": "code",
   "execution_count": 29,
   "id": "d6678e6d",
   "metadata": {},
   "outputs": [
    {
     "name": "stdout",
     "output_type": "stream",
     "text": [
      "s: \n",
      "ashley\n",
      "t: \n",
      "ash\n",
      "K: \n",
      "2\n",
      "No\n"
     ]
    }
   ],
   "source": [
    "def appendDelete(s, t, k):\n",
    "    \n",
    "    count = 0 \n",
    "    best_k =0\n",
    "    \n",
    "    if len(s)>len(t):\n",
    "        for i in range(len(t)):\n",
    "            if s[i] == t[i]:\n",
    "                count += 1 \n",
    "            \n",
    "            \n",
    "    elif len(s)<len(t):\n",
    "        for i in range(len(s)):\n",
    "            if s[i] == t[i]:\n",
    "                count += 1 \n",
    "        \n",
    "        \n",
    "    elif len(s)== len(t):\n",
    "        for i in range(len(s)):\n",
    "            if s[i] == t[i]:\n",
    "                count += 1     \n",
    " \n",
    "        \n",
    "    \n",
    "    best_k = (len(s) - count) + (len(t)-count)\n",
    "    \n",
    "    \n",
    "       \n",
    "    if best_k > k:\n",
    "        return 'No'\n",
    "    \n",
    "    else :\n",
    "        return 'Yes'\n",
    "    \n",
    "    \n",
    "print(\"s: \")    \n",
    "a = str(input())\n",
    "print(\"t: \")\n",
    "b = str(input())\n",
    "print(\"K: \")\n",
    "k = int(input())\n",
    "\n",
    "answer = \"\"\n",
    "answer = appendDelete(a,b,k)\n",
    "\n",
    "print(answer)"
   ]
  },
  {
   "cell_type": "markdown",
   "id": "ffab4f64",
   "metadata": {},
   "source": [
    "> (순서대로만 틀린 것을 찾는 문제라서 다행인 것 같다..)\n",
    "\n",
    "해결방법\n",
    "---\n",
    "\n",
    "+ 내가 생각한 알고리즘은 두 문자열에 같은 인덱스끼리 서로 비교를 하고 맞으면 count += 1 을 통해 개수를 파악한다. \n",
    "\n",
    "\n",
    "+ 만약 틀린 부분이 발견되면 s에 나머지 부분을 다 지우고 t에 나머지 부분을 다 더해야 한다. \n",
    "\n",
    "\n",
    "+ 마지막으로 K의 값이 best_k (최소 변경횟수) 보다 클 때만 Yes를 반환하고 아니면 No를 반환하자"
   ]
  },
  {
   "cell_type": "markdown",
   "id": "34de82f4",
   "metadata": {},
   "source": [
    "소감\n",
    "=====\n",
    "\n",
    "직접 이렇게 문제를 해결해 보았다. 내가 생각하기에 문제에서 중요한 것은 알고리즘과 그 알고리즘을 구현하기 위한 도구를 잘 사용할 줄 아는 것이 가장 중요한 것 같다. 내가 생각하기에는 이번과제에서 9번 (바나나문제) 같은 경우에는 알고리즘을 정확히 어떻게 구현해야 할 지 몰라서 오래 걸렸다. (문제 이해력이 부족) 그리고 나머지 문제같은 경우에는 바로바로 알고리즘이 딱 머리 속으로 떠올랐지만, 알고리즘처럼 어떻게 파이썬에 도구를 사용할 지 몰라서 시간을 많이 소요한 것 같다. \n",
    "\n",
    "그래도 이번 문제를 해결 해 보면서, 강의로 보던 내용을 직접 실습해보니, 더욱 기능과 사용법을 숙련시킨 것 같아서 아주 보람차다고 느꼈다. \n",
    "파이썬은 다른 과목에서도 유용하게 사용되기 때문에 이번에 공부할 땐 꼼꼼하게 공부하는 습관을 길러야겠다. \n",
    "\n",
    "\n",
    "질문\n",
    "===\n",
    "+ 질문 1 \n",
    "이번 첫 과제로 막다운과 jupyter_notebook을 처음 사용해봤는데, 이렇게 과제를 제출하는 것이 맞는 지 궁금 합니다. \n",
    "-----\n",
    "+ 질문 2 \n",
    "직접 과제 제출을 위해 코딩을 해봤는데, 코드 셀이 여러개 다 따로따로 적용되는 줄 알았는데, 같이 적용되어서 선언한 변수 이름이 중복 될 수도 있다는 것을 알았습니다. 그래서 코딩할 때 맨 위에 코드 cell에 있는 변수이름과 중간 코드 cell에 있는 변수 이름이 겹쳐서 완전히 이상한 값이 발견 되었었습니다.  이런 문제는 어떻게 해결해야 할까요?\n",
    "----\n",
    "+ 질문 2\n",
    "그리고 슬라이싱 기능을 사용하려고 하는데 list[변수: 변수] 이렇게는 사용할 수 없나요? \n",
    "\n",
    "ex)\n",
    "a=0\n",
    "\n",
    "b=4\n",
    "\n",
    "list=[]\n",
    "\n",
    "list[a:b]  # 결과 빈 문자열 [] 출력 \n"
   ]
  }
 ],
 "metadata": {
  "kernelspec": {
   "display_name": "Python 3",
   "language": "python",
   "name": "python3"
  },
  "language_info": {
   "codemirror_mode": {
    "name": "ipython",
    "version": 3
   },
   "file_extension": ".py",
   "mimetype": "text/x-python",
   "name": "python",
   "nbconvert_exporter": "python",
   "pygments_lexer": "ipython3",
   "version": "3.8.8"
  }
 },
 "nbformat": 4,
 "nbformat_minor": 5
}
